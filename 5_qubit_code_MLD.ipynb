{
 "cells": [
  {
   "cell_type": "markdown",
   "metadata": {},
   "source": [
    "### Solving Decoding Problem for 5-Qubit Code Using Maximum-Likelihood Decoder\n",
    "- This code is not a CSS code\n",
    "- Can express it in binary symplectic form to find out what the possible syndromes are "
   ]
  },
  {
   "cell_type": "code",
   "execution_count": 2,
   "metadata": {},
   "outputs": [],
   "source": [
    "from typing import List, Tuple\n",
    "import galois"
   ]
  },
  {
   "cell_type": "code",
   "execution_count": 4,
   "metadata": {},
   "outputs": [],
   "source": [
    "def five_qubit_code(stab_gens: List) -> Tuple:\n",
    "    \"\"\" \n",
    "    Construct binary symplectic form for five qubit code\n",
    "\n",
    "    Parameters:\n",
    "    -----------\n",
    "    stab_gens - Stabilizer generators for 5-qubit code\n",
    "\n",
    "    Returns:\n",
    "    --------\n",
    "    Tuple where each element is a parity-check matrix\n",
    "    \"\"\"\n",
    "    H_x = [] \n",
    "    H_z = []\n",
    "    GF = galois.GF(2)\n",
    "    for gen in stab_gens:\n",
    "        curr_x = []\n",
    "        curr_z = []\n",
    "        for pauli in gen:\n",
    "            if (pauli == 'X'):\n",
    "                curr_x.append(1)\n",
    "                curr_z.append(0)\n",
    "            elif (pauli == 'Y'):\n",
    "                curr_x.append(1)\n",
    "                curr_z.append(1)\n",
    "            else:\n",
    "                curr_x.append(0)\n",
    "                curr_z.append(1)\n",
    "        H_x.append(curr_x)\n",
    "        H_z.append(curr_z)\n",
    "    \n",
    "    H_x = GF(np.array(H_x))\n",
    "    H_z = GF(np.array(H_z))\n",
    "    return (H_x,H_z)\n",
    "\n"
   ]
  },
  {
   "cell_type": "code",
   "execution_count": null,
   "metadata": {},
   "outputs": [],
   "source": []
  }
 ],
 "metadata": {
  "kernelspec": {
   "display_name": "Python 3.9.7 ('topo_quant')",
   "language": "python",
   "name": "python3"
  },
  "language_info": {
   "codemirror_mode": {
    "name": "ipython",
    "version": 3
   },
   "file_extension": ".py",
   "mimetype": "text/x-python",
   "name": "python",
   "nbconvert_exporter": "python",
   "pygments_lexer": "ipython3",
   "version": "3.9.7"
  },
  "orig_nbformat": 4,
  "vscode": {
   "interpreter": {
    "hash": "d4046caf55f50b54fa7ffdea1ad98452a8feb9cf62ccba5e4c76fe622e38f8fa"
   }
  }
 },
 "nbformat": 4,
 "nbformat_minor": 2
}
