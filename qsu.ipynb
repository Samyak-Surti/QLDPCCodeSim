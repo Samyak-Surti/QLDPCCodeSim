{
 "cells": [
  {
   "cell_type": "code",
   "execution_count": null,
   "metadata": {},
   "outputs": [],
   "source": [
    "# utility functions for use in demo notebooks\n",
    "from IPython.display import HTML\n",
    "\n",
    "# namespace\n",
    "class qsu:\n",
    "    \n",
    "    @staticmethod\n",
    "    def print_pauli(pauli):\n",
    "        text = str(pauli)\n",
    "        text = text.replace('X', 'X')\n",
    "        text = text.replace('Y', 'Y')\n",
    "        text = text.replace('Z', 'Z')\n",
    "        display(HTML('{}'.format(text))) "
   ]
  }
 ],
 "metadata": {
  "language_info": {
   "name": "python"
  },
  "orig_nbformat": 4
 },
 "nbformat": 4,
 "nbformat_minor": 2
}
