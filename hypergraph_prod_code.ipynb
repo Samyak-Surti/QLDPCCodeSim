{
 "cells": [
  {
   "cell_type": "markdown",
   "metadata": {},
   "source": [
    "### Toric Code as a Graph Product\n",
    "* Let us construct toric code in terms of the graph product picture.\n",
    "* This involves starting with two cycles and taking their cartesian graph product"
   ]
  },
  {
   "cell_type": "code",
   "execution_count": 4,
   "metadata": {},
   "outputs": [],
   "source": [
    "import networkx as nx\n",
    "import numpy as np\n",
    "import matplotlib.pyplot as plt"
   ]
  },
  {
   "cell_type": "code",
   "execution_count": 5,
   "metadata": {},
   "outputs": [],
   "source": [
    "def tanner_to_parity_check_mat(G: nx.Graph) -> np.array:\n",
    "    \"\"\"\n",
    "    Converts Tanner graph 'G' into parity check matrix\n",
    "\n",
    "    Parameters:\n",
    "    -----------\n",
    "    G - Tanner graph\n",
    "    \"\"\"\n",
    "    num_var_nodes = 0\n",
    "    num_check_nodes = 0\n",
    "    check_node_list = []\n",
    "    G_nodes = list(G.nodes)\n",
    "    G_edges = list(G.edges)\n",
    "    for node in G_nodes:\n",
    "        if (node[0] == 'v'):\n",
    "            num_var_nodes += 1\n",
    "        else:\n",
    "            num_check_nodes += 1\n",
    "    \n",
    "    mat = np.zeros((num_check_nodes, num_var_nodes))\n",
    "    for edge in G_edges:\n",
    "        if (edge[0][0] == 'c'):\n",
    "            mat[int(edge[0][1])][int(edge[1][1])] = 1\n",
    "        else:\n",
    "            mat[int(edge[1][1])][int(edge[0][1])] = 1\n",
    "    pc_mat_1 = nx.incidence_matrix(tan_graph_1)\n",
    "\n",
    "def parity_check_mat_to_tanner(mat: np.array) -> nx.Graph:\n",
    "    \"\"\" \n",
    "    Converts parity check matrix 'mat' into Tanner graph\n",
    "\n",
    "    Parameters:\n",
    "    -----------\n",
    "    mat - parity check matrix\n",
    "    \"\"\"\n",
    "    num_var_nodes = mat.shape[1]\n",
    "    num_check_nodes = mat.shape[0]\n",
    "    tan_graph = nx.Graph();\n",
    "    for i in range(num_var_nodes):\n",
    "        tan_graph.add_node(\"v\" + str(i))\n",
    "\n",
    "    for j in range(num_check_nodes):\n",
    "        tan_graph.add_node(\"c\" + str(j))\n",
    "\n",
    "    for i in range(mat.shape[0]):\n",
    "        for j in range(mat.shape[1]):\n",
    "            if (mat[i][j] == 1):\n",
    "                tan_graph.add_edge(\"c\" + str(i), \"v\" + str(j))\n",
    "    \n",
    "    return tan_graph"
   ]
  },
  {
   "cell_type": "code",
   "execution_count": null,
   "metadata": {},
   "outputs": [],
   "source": [
    "def parity_check_to_generator(H: np.array) -> np.array:\n",
    "    \"\"\" \n",
    "    Converts parity-check matrix for a code to the generator \n",
    "    matrix for that code \n",
    "\n",
    "    Parameters:\n",
    "    -----------\n",
    "    H - parity-check matrix\n",
    "    \"\"\"\n",
    "    pass \n",
    "\n",
    "def generator_to_parity_check(G: np.array) -> np.array:\n",
    "    \"\"\" \n",
    "    Converts generator matrix for code to parity-check matrix \n",
    "    for that code\n",
    "\n",
    "    Parameters:\n",
    "    -----------\n",
    "    G - generator matrix\n",
    "    \"\"\"\n",
    "    pass"
   ]
  },
  {
   "cell_type": "code",
   "execution_count": 19,
   "metadata": {},
   "outputs": [
    {
     "name": "stderr",
     "output_type": "stream",
     "text": [
      "/tmp/ipykernel_23902/4114011415.py:7: FutureWarning: adjacency_matrix will return a scipy.sparse array instead of a matrix in Networkx 3.0.\n",
      "  print(nx.adjacency_matrix(tan_graph_1).to_numpy_array())\n"
     ]
    },
    {
     "ename": "AttributeError",
     "evalue": "to_numpy_array not found",
     "output_type": "error",
     "traceback": [
      "\u001b[0;31m---------------------------------------------------------------------------\u001b[0m",
      "\u001b[0;31mAttributeError\u001b[0m                            Traceback (most recent call last)",
      "\u001b[1;32m/home/samyaknn/Documents/BerkeleyMain/Summer2022/QuantumLDPCCodes/LDPCCodeSim/hypergraph_prod_code.ipynb Cell 4'\u001b[0m in \u001b[0;36m<cell line: 7>\u001b[0;34m()\u001b[0m\n\u001b[1;32m      <a href='vscode-notebook-cell:/home/samyaknn/Documents/BerkeleyMain/Summer2022/QuantumLDPCCodes/LDPCCodeSim/hypergraph_prod_code.ipynb#ch0000003?line=0'>1</a>\u001b[0m mat \u001b[39m=\u001b[39m np\u001b[39m.\u001b[39marray([\n\u001b[1;32m      <a href='vscode-notebook-cell:/home/samyaknn/Documents/BerkeleyMain/Summer2022/QuantumLDPCCodes/LDPCCodeSim/hypergraph_prod_code.ipynb#ch0000003?line=1'>2</a>\u001b[0m     [\u001b[39m1\u001b[39m,\u001b[39m1\u001b[39m,\u001b[39m0\u001b[39m],\n\u001b[1;32m      <a href='vscode-notebook-cell:/home/samyaknn/Documents/BerkeleyMain/Summer2022/QuantumLDPCCodes/LDPCCodeSim/hypergraph_prod_code.ipynb#ch0000003?line=2'>3</a>\u001b[0m     [\u001b[39m0\u001b[39m,\u001b[39m1\u001b[39m,\u001b[39m1\u001b[39m],\n\u001b[1;32m      <a href='vscode-notebook-cell:/home/samyaknn/Documents/BerkeleyMain/Summer2022/QuantumLDPCCodes/LDPCCodeSim/hypergraph_prod_code.ipynb#ch0000003?line=3'>4</a>\u001b[0m     [\u001b[39m1\u001b[39m,\u001b[39m0\u001b[39m,\u001b[39m1\u001b[39m]\n\u001b[1;32m      <a href='vscode-notebook-cell:/home/samyaknn/Documents/BerkeleyMain/Summer2022/QuantumLDPCCodes/LDPCCodeSim/hypergraph_prod_code.ipynb#ch0000003?line=4'>5</a>\u001b[0m ])\n\u001b[1;32m      <a href='vscode-notebook-cell:/home/samyaknn/Documents/BerkeleyMain/Summer2022/QuantumLDPCCodes/LDPCCodeSim/hypergraph_prod_code.ipynb#ch0000003?line=5'>6</a>\u001b[0m tan_graph_1 \u001b[39m=\u001b[39m parity_check_mat_to_tanner(mat)\n\u001b[0;32m----> <a href='vscode-notebook-cell:/home/samyaknn/Documents/BerkeleyMain/Summer2022/QuantumLDPCCodes/LDPCCodeSim/hypergraph_prod_code.ipynb#ch0000003?line=6'>7</a>\u001b[0m \u001b[39mprint\u001b[39m(nx\u001b[39m.\u001b[39;49madjacency_matrix(tan_graph_1)\u001b[39m.\u001b[39;49mto_numpy_array())\n\u001b[1;32m      <a href='vscode-notebook-cell:/home/samyaknn/Documents/BerkeleyMain/Summer2022/QuantumLDPCCodes/LDPCCodeSim/hypergraph_prod_code.ipynb#ch0000003?line=7'>8</a>\u001b[0m tan_graph_2 \u001b[39m=\u001b[39m parity_check_mat_to_tanner(mat)\n\u001b[1;32m      <a href='vscode-notebook-cell:/home/samyaknn/Documents/BerkeleyMain/Summer2022/QuantumLDPCCodes/LDPCCodeSim/hypergraph_prod_code.ipynb#ch0000003?line=8'>9</a>\u001b[0m nx\u001b[39m.\u001b[39mdraw(tan_graph_1, with_labels\u001b[39m=\u001b[39m\u001b[39mTrue\u001b[39;00m, font_weight\u001b[39m=\u001b[39m\u001b[39m'\u001b[39m\u001b[39mbold\u001b[39m\u001b[39m'\u001b[39m)\n",
      "File \u001b[0;32m~/anaconda3/envs/qc_env/lib/python3.9/site-packages/scipy/sparse/_base.py:764\u001b[0m, in \u001b[0;36mspmatrix.__getattr__\u001b[0;34m(self, attr)\u001b[0m\n\u001b[1;32m    762\u001b[0m     \u001b[39mreturn\u001b[39;00m \u001b[39mself\u001b[39m\u001b[39m.\u001b[39mgetnnz()\n\u001b[1;32m    763\u001b[0m \u001b[39melse\u001b[39;00m:\n\u001b[0;32m--> 764\u001b[0m     \u001b[39mraise\u001b[39;00m \u001b[39mAttributeError\u001b[39;00m(attr \u001b[39m+\u001b[39m \u001b[39m\"\u001b[39m\u001b[39m not found\u001b[39m\u001b[39m\"\u001b[39m)\n",
      "\u001b[0;31mAttributeError\u001b[0m: to_numpy_array not found"
     ]
    }
   ],
   "source": [
    "mat = np.array([\n",
    "    [1,1,0],\n",
    "    [0,1,1],\n",
    "    [1,0,1]\n",
    "])\n",
    "tan_graph_1 = parity_check_mat_to_tanner(mat)\n",
    "print(nx.adjacency_matrix(tan_graph_1).)\n",
    "tan_graph_2 = parity_check_mat_to_tanner(mat)\n",
    "nx.draw(tan_graph_1, with_labels=True, font_weight='bold')\n",
    "toric_code = nx.cartesian_product(tan_graph_1, tan_graph_2)\n",
    "#nx.draw(toric_code, with_labels=True, font_weight='bold')\n",
    "\n",
    "\n"
   ]
  },
  {
   "cell_type": "code",
   "execution_count": 3,
   "metadata": {},
   "outputs": [],
   "source": [
    "def construct_C_X(m: int) -> nx.Graph:\n",
    "    \"\"\"\n",
    "    Constructs the Tanner Graph corresponding to a cycle code of length 'm' for the X-checks\n",
    "\n",
    "    Parameters:\n",
    "    -----------\n",
    "    m - length of cycle code\n",
    "    \"\"\"\n",
    "    graph_C_X = nx.Graph()\n",
    "    num_var_nodes = 2 * m\n",
    "    num_check_nodes = m\n",
    "    var_node_list = []\n",
    "    check_node_list = []\n",
    "\n",
    "    # Add all variable and check nodes to graph\n",
    "    for i in range(num_var_nodes):\n",
    "        graph_C_X.add_node(\"v\" + str(i))\n",
    "\n",
    "    for i in range(num_check_nodes):\n",
    "        graph_C_X.add_node(\"c\" + str(i))\n",
    "\n",
    "    var_node_list = [var for var in list(graph_C_X.nodes) if var[0] == \"v\"]\n",
    "    check_node_list = [check for check in list(graph_C_X.nodes) if var[0] == \"c\"]\n",
    "    \n",
    "\n",
    "    # Add all edges where an edge exists between a variable node and a check node \n",
    "    # if that particular variable node is involved in the connected check\n",
    "    \n",
    "    \n",
    "\n",
    "\n",
    "def construct_C_Z(m: int) -> nx.Graph:\n",
    "    \"\"\"\n",
    "    Constructs the Tanner Graph corresponding to a cycle code of length 'm' for the Z-checks\n",
    "\n",
    "    Parameters:\n",
    "    -----------\n",
    "    m - length of cycle code\n",
    "    \"\"\"\n",
    "    graph_C_Z = nx.Graph()\n",
    "    num_var_nodes = 2 * m\n",
    "    num_check_nodes = m\n",
    "\n",
    "    # Add all variable and check nodes to graph\n",
    "    for i in range(num_var_nodes):\n",
    "        graph_C_Z.add_node(\"v\" + str(i))\n",
    "\n",
    "    for i in range(num_check_nodes):\n",
    "        graph_C_Z.add_node(\"c\" + str(i))\n",
    "\n",
    "    # Add all edges where an edge exists between a variable node and a check node \n",
    "    # if that particular variable node is involved in the connected check"
   ]
  },
  {
   "cell_type": "code",
   "execution_count": null,
   "metadata": {},
   "outputs": [],
   "source": []
  }
 ],
 "metadata": {
  "kernelspec": {
   "display_name": "Python 3.9.7 ('qc_env')",
   "language": "python",
   "name": "python3"
  },
  "language_info": {
   "codemirror_mode": {
    "name": "ipython",
    "version": 3
   },
   "file_extension": ".py",
   "mimetype": "text/x-python",
   "name": "python",
   "nbconvert_exporter": "python",
   "pygments_lexer": "ipython3",
   "version": "3.9.7"
  },
  "orig_nbformat": 4,
  "vscode": {
   "interpreter": {
    "hash": "5a2db16169323f9c61c6ed4d885397ad0494f2e790734ab97aaeab1bbd202ff7"
   }
  }
 },
 "nbformat": 4,
 "nbformat_minor": 2
}
