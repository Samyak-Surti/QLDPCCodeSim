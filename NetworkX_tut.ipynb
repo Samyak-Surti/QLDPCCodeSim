{
 "cells": [
  {
   "cell_type": "code",
   "execution_count": 1,
   "metadata": {},
   "outputs": [],
   "source": [
    "import networkx as nx\n",
    "G = nx.Graph()"
   ]
  },
  {
   "cell_type": "markdown",
   "metadata": {},
   "source": [
    "## Nodes\n",
    "Graph $G$ can be grown in several ways. \n",
    "* Graph generator functions\n",
    "* Facilities to read and write graphs in many formats "
   ]
  },
  {
   "cell_type": "code",
   "execution_count": 2,
   "metadata": {},
   "outputs": [],
   "source": [
    "G.add_node(1) # One node at a time\n",
    "G.add_nodes_from([2, 3]) # Add nodes from an iterable container (e.g. list)"
   ]
  },
  {
   "cell_type": "code",
   "execution_count": 3,
   "metadata": {},
   "outputs": [],
   "source": [
    "# Can also add nodes along with node attributes of the form (node, node_attribute_dict)\n",
    "G.add_nodes_from([\n",
    "    (4, {\"color\": \"red\"}),\n",
    "    (5, {\"color\": \"green\"})\n",
    "])"
   ]
  },
  {
   "cell_type": "code",
   "execution_count": 4,
   "metadata": {},
   "outputs": [],
   "source": [
    "# Nodes from one graph can be incorporated into another.\n",
    "H = nx.path_graph(10)\n",
    "G.add_nodes_from(H)\n",
    "# Now G contains nodes of H as nodes of G. "
   ]
  },
  {
   "cell_type": "code",
   "execution_count": 6,
   "metadata": {},
   "outputs": [],
   "source": [
    "# Can also use the graph H as a node in G\n",
    "G.add_node(H)\n",
    "# The above allows for having graph of graphs"
   ]
  },
  {
   "cell_type": "markdown",
   "metadata": {},
   "source": [
    "## Edges\n",
    "$G$ can also be grown by adding one edge at a time"
   ]
  },
  {
   "cell_type": "code",
   "execution_count": 7,
   "metadata": {},
   "outputs": [],
   "source": [
    "G.add_edge(1,2)\n",
    "e = (2,3)\n",
    "G.add_edge(*e) # unpack edge tuple*"
   ]
  },
  {
   "cell_type": "markdown",
   "metadata": {},
   "source": [
    "by adding a list of edges"
   ]
  },
  {
   "cell_type": "code",
   "execution_count": 8,
   "metadata": {},
   "outputs": [],
   "source": [
    "G.add_edges_from([(1,2), (1,3)])"
   ]
  },
  {
   "cell_type": "markdown",
   "metadata": {},
   "source": [
    "or by adding any 'ebunch' of edges. \n",
    "* An 'ebunch' is any iterable container of edge touples"
   ]
  },
  {
   "cell_type": "code",
   "execution_count": 9,
   "metadata": {},
   "outputs": [],
   "source": [
    "G.add_edges_from(H.edges)"
   ]
  },
  {
   "cell_type": "code",
   "execution_count": 10,
   "metadata": {},
   "outputs": [],
   "source": [
    "G.clear() # Removes all nodes and edges"
   ]
  },
  {
   "cell_type": "code",
   "execution_count": 11,
   "metadata": {},
   "outputs": [],
   "source": [
    "#We add new nodes/edges and NetworkX quietly ignores any that are already present.\n",
    "G.add_edges_from([(1,2), (1,3)])\n",
    "G.add_node(1)\n",
    "G.add_edge(1,2)\n",
    "G.add_node(\"spam\")\n",
    "G.add_nodes_from(\"spam\")\n",
    "G.add_edge(3, 'm')"
   ]
  },
  {
   "cell_type": "markdown",
   "metadata": {},
   "source": [
    "At this stage the graph $G$ consists of 8 nodes and 3 edges, as can be seen by:"
   ]
  },
  {
   "cell_type": "code",
   "execution_count": 14,
   "metadata": {},
   "outputs": [
    {
     "name": "stdout",
     "output_type": "stream",
     "text": [
      "Number of nodes in G: 8\n",
      "Number of edges in G: 3\n"
     ]
    }
   ],
   "source": [
    "print(\"Number of nodes in G: \" + str(G.number_of_nodes()))\n",
    "print(\"Number of edges in G: \" + str(G.number_of_edges()))"
   ]
  },
  {
   "cell_type": "code",
   "execution_count": 15,
   "metadata": {},
   "outputs": [],
   "source": [
    "DG = nx.DiGraph()\n",
    "DG.add_edge(2,1)\n",
    "DG.add_edge(1,3)\n",
    "DG.add_edge(2,4)\n",
    "DG.add_edge(1,2)\n",
    "assert list(DG.successors(2)) == [1,4]\n",
    "assert list(DG.edges) == [(2,1), (2,4), (1,3), (1,2)]"
   ]
  },
  {
   "cell_type": "markdown",
   "metadata": {},
   "source": [
    "## Examining elements of a graph\n",
    "* $\\texttt{G.nodes}$ - set view of nodes of graph\n",
    "* $\\texttt{G.edges}$ - set view of edges of graph\n",
    "* $\\texttt{G.adj}$ - set view of neighbors of nodes\n",
    "* $\\texttt{G.degree}$ - set view of degrees of nodes"
   ]
  },
  {
   "cell_type": "code",
   "execution_count": 19,
   "metadata": {},
   "outputs": [
    {
     "name": "stdout",
     "output_type": "stream",
     "text": [
      "[1, 2, 3, 'spam', 's', 'p', 'a', 'm']\n",
      "[(1, 2), (1, 3), (3, 'm')]\n",
      "[2, 3]\n",
      "2\n"
     ]
    }
   ],
   "source": [
    "print(list(G.nodes))\n",
    "print(list(G.edges))\n",
    "print(list(G.adj[1])) # Neighbors of node 1\n",
    "print(G.degree[1]) # Degree of node 1"
   ]
  },
  {
   "cell_type": "markdown",
   "metadata": {},
   "source": [
    "## Removing elements from a graph\n",
    "Can remove nodes and edges from the graph in a similar fashion to adding\n",
    "* $\\texttt{Graph.remove\\_node()}$\n",
    "* $\\texttt{Graph.remove\\_nodes\\_from()}$\n",
    "* $\\texttt{Graph.remove\\_edge()}$\n",
    "* $\\texttt{Graph.remove\\_edges\\_from()}$"
   ]
  },
  {
   "cell_type": "code",
   "execution_count": 20,
   "metadata": {},
   "outputs": [
    {
     "name": "stdout",
     "output_type": "stream",
     "text": [
      "[1, 3, 'spam']\n"
     ]
    }
   ],
   "source": [
    "G.remove_node(2)\n",
    "G.remove_nodes_from(\"spam\")\n",
    "print(list(G.nodes))\n",
    "G.remove_edge(1,3)"
   ]
  },
  {
   "cell_type": "markdown",
   "metadata": {},
   "source": [
    "## Drawing Graphs\n",
    "Basic drawing with Matplotlib as well as an interface to use the open source Graphviz software package are included."
   ]
  },
  {
   "cell_type": "code",
   "execution_count": 25,
   "metadata": {},
   "outputs": [],
   "source": [
    "import matplotlib.pyplot as plt"
   ]
  },
  {
   "cell_type": "code",
   "execution_count": 29,
   "metadata": {},
   "outputs": [
    {
     "ename": "AttributeError",
     "evalue": "module 'scipy.sparse' has no attribute 'lil_array'",
     "output_type": "error",
     "traceback": [
      "\u001b[0;31m---------------------------------------------------------------------------\u001b[0m",
      "\u001b[0;31mAttributeError\u001b[0m                            Traceback (most recent call last)",
      "\u001b[1;32m/home/samyaknn/Documents/BerkeleyMain/Summer2022/QuantumLDPCCodes/LDPCCodeSim/NetworkX_tut.ipynb Cell 24'\u001b[0m in \u001b[0;36m<cell line: 6>\u001b[0;34m()\u001b[0m\n\u001b[1;32m      <a href='vscode-notebook-cell:/home/samyaknn/Documents/BerkeleyMain/Summer2022/QuantumLDPCCodes/LDPCCodeSim/NetworkX_tut.ipynb#ch0000035?line=3'>4</a>\u001b[0m subax2 \u001b[39m=\u001b[39m plt\u001b[39m.\u001b[39msubplot(\u001b[39m122\u001b[39m)\n\u001b[1;32m      <a href='vscode-notebook-cell:/home/samyaknn/Documents/BerkeleyMain/Summer2022/QuantumLDPCCodes/LDPCCodeSim/NetworkX_tut.ipynb#ch0000035?line=4'>5</a>\u001b[0m nx\u001b[39m.\u001b[39mdraw_shell(G, nlist\u001b[39m=\u001b[39m[\u001b[39mrange\u001b[39m(\u001b[39m5\u001b[39m,\u001b[39m10\u001b[39m), \u001b[39mrange\u001b[39m(\u001b[39m5\u001b[39m)], with_labels\u001b[39m=\u001b[39m\u001b[39mTrue\u001b[39;00m, font_weight\u001b[39m=\u001b[39m\u001b[39m'\u001b[39m\u001b[39mbold\u001b[39m\u001b[39m'\u001b[39m)\n\u001b[0;32m----> <a href='vscode-notebook-cell:/home/samyaknn/Documents/BerkeleyMain/Summer2022/QuantumLDPCCodes/LDPCCodeSim/NetworkX_tut.ipynb#ch0000035?line=5'>6</a>\u001b[0m \u001b[39mprint\u001b[39m(nx\u001b[39m.\u001b[39;49mincidence_matrix(G))\n",
      "File \u001b[0;32m~/anaconda3/lib/python3.8/site-packages/networkx/linalg/graphmatrix.py:69\u001b[0m, in \u001b[0;36mincidence_matrix\u001b[0;34m(G, nodelist, edgelist, oriented, weight)\u001b[0m\n\u001b[1;32m     67\u001b[0m     \u001b[39melse\u001b[39;00m:\n\u001b[1;32m     68\u001b[0m         edgelist \u001b[39m=\u001b[39m \u001b[39mlist\u001b[39m(G\u001b[39m.\u001b[39medges())\n\u001b[0;32m---> 69\u001b[0m A \u001b[39m=\u001b[39m sp\u001b[39m.\u001b[39;49msparse\u001b[39m.\u001b[39;49mlil_array((\u001b[39mlen\u001b[39m(nodelist), \u001b[39mlen\u001b[39m(edgelist)))\n\u001b[1;32m     70\u001b[0m node_index \u001b[39m=\u001b[39m {node: i \u001b[39mfor\u001b[39;00m i, node \u001b[39min\u001b[39;00m \u001b[39menumerate\u001b[39m(nodelist)}\n\u001b[1;32m     71\u001b[0m \u001b[39mfor\u001b[39;00m ei, e \u001b[39min\u001b[39;00m \u001b[39menumerate\u001b[39m(edgelist):\n",
      "\u001b[0;31mAttributeError\u001b[0m: module 'scipy.sparse' has no attribute 'lil_array'"
     ]
    },
    {
     "data": {
      "image/png": "[encoded data removed]",
      "text/plain": [
       "<Figure size 432x288 with 2 Axes>"
      ]
     },
     "metadata": {},
     "output_type": "display_data"
    }
   ],
   "source": [
    "G = nx.petersen_graph()\n",
    "subax1 = plt.subplot(121)\n",
    "nx.draw(G, with_labels=True, font_weight='bold')\n",
    "subax2 = plt.subplot(122)\n",
    "nx.draw_shell(G, nlist=[range(5,10), range(5)], with_labels=True, font_weight='bold')\n",
    "print(nx.incidence_matrix(G))"
   ]
  },
  {
   "cell_type": "code",
   "execution_count": null,
   "metadata": {},
   "outputs": [],
   "source": []
  }
 ],
 "metadata": {
  "kernelspec": {
   "display_name": "Python ('qc_env')",
   "language": "python",
   "name": "python3"
  },
  "language_info": {
   "codemirror_mode": {
    "name": "ipython",
    "version": 3
   },
   "file_extension": ".py",
   "mimetype": "text/x-python",
   "name": "python",
   "nbconvert_exporter": "python",
   "pygments_lexer": "ipython3",
   "version": ""
  },
  "orig_nbformat": 4,
  "vscode": {
   "interpreter": {
    "hash": "11d38638bc765a05a2e9b017a5109585eca6fd1c9fd4081a2b2b4d2c8dd08d4c"
   }
  }
 },
 "nbformat": 4,
 "nbformat_minor": 2
}
