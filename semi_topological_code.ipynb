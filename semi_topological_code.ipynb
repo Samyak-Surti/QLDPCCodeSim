{
 "cells": [
  {
   "cell_type": "markdown",
   "metadata": {},
   "source": [
    "### Semi-Topological Codes\n",
    "* Construction based off of https://arxiv.org/abs/2005.07016"
   ]
  },
  {
   "cell_type": "code",
   "execution_count": 1,
   "metadata": {
    "vscode": {
     "languageId": "python"
    }
   },
   "outputs": [],
   "source": [
    "import networkx as nx\n",
    "from sage.all import *\n",
    "import numpy as np\n",
    "import matplotlib.pyplot as plt\n",
    "from typing import List, Tuple\n",
    "import galois"
   ]
  },
  {
   "cell_type": "code",
   "execution_count": 2,
   "metadata": {
    "vscode": {
     "languageId": "python"
    }
   },
   "outputs": [],
   "source": [
    "def tanner_to_parity_check_mat(G: nx.Graph) -> np.array:\n",
    "    \"\"\"\n",
    "    Converts Tanner graph 'G' into parity check matrix\n",
    "\n",
    "    Parameters:\n",
    "    -----------\n",
    "    G - Tanner graph\n",
    "    \"\"\"\n",
    "    num_var_nodes = 0\n",
    "    num_check_nodes = 0\n",
    "    check_node_list = []\n",
    "    nodes_dict = {}\n",
    "    G_nodes = list(G.nodes)\n",
    "    G_edges = list(G.edges)\n",
    "    for node in G_nodes:\n",
    "        if (node[0] == 'v'):\n",
    "            nodes_dict[node] = num_var_nodes\n",
    "            num_var_nodes += 1\n",
    "        else:\n",
    "            nodes_dict[node] = num_check_nodes\n",
    "            num_check_nodes += 1\n",
    "    \n",
    "    mat = np.zeros((num_check_nodes, num_var_nodes))\n",
    "    for edge in G_edges:\n",
    "        if (edge[0][0] == 'c'):\n",
    "            mat[nodes_dict[edge[0]]][nodes_dict[edge[1]]] = 1\n",
    "        else:\n",
    "            mat[nodes_dict[edge[1]]][nodes_dict[edge[0]]] = 1\n",
    "            \n",
    "    return mat\n",
    "\n",
    "def parity_check_mat_to_tanner(mat: np.array) -> nx.Graph:\n",
    "    \"\"\" \n",
    "    Converts parity check matrix 'mat' into Tanner graph\n",
    "\n",
    "    Parameters:\n",
    "    -----------\n",
    "    mat - parity check matrix\n",
    "    \"\"\"\n",
    "    num_var_nodes = mat.shape[1]\n",
    "    num_check_nodes = mat.shape[0]\n",
    "    tan_graph = nx.Graph();\n",
    "    for i in range(num_var_nodes):\n",
    "        tan_graph.add_node(\"v\" + str(i))\n",
    "\n",
    "    for j in range(num_check_nodes):\n",
    "        tan_graph.add_node(\"c\" + str(j))\n",
    "\n",
    "    for i in range(mat.shape[0]):\n",
    "        for j in range(mat.shape[1]):\n",
    "            if (mat[i][j] == 1):\n",
    "                tan_graph.add_edge(\"c\" + str(i), \"v\" + str(j))\n",
    "    \n",
    "    return tan_graph"
   ]
  },
  {
   "cell_type": "code",
   "execution_count": 3,
   "metadata": {
    "vscode": {
     "languageId": "python"
    }
   },
   "outputs": [],
   "source": [
    "def construct_graph_chain_segment(g: int) -> nx.Graph:\n",
    "    \"\"\" \n",
    "    Construct augmentation tanner graph based on 'g' value \n",
    "\n",
    "    Parameters:\n",
    "    -----------\n",
    "    g - Level of augmentation\n",
    "\n",
    "    Returns:\n",
    "    --------\n",
    "    Augmentation graph to be inserted in parent tanner graph of choice\n",
    "    \"\"\"\n",
    "    aug_graph_pc_mat = np.eye(g)\n",
    "    for i in range(g - 1):\n",
    "        aug_graph_pc_mat[i][i + 1] = 1\n",
    "    #print(aug_graph_pc_mat)\n",
    "    return parity_check_mat_to_tanner(aug_graph_pc_mat)\n",
    "\n",
    "def relabel_nodes(chain_seg: nx.Graph, parent_graph: nx.Graph) -> nx.Graph:\n",
    "    \"\"\" \n",
    "    Rename nodes of graph chain segment according to where in parent graph it is going to be inserted.\n",
    "\n",
    "    Parameters:\n",
    "    -----------\n",
    "    chain_seg - graph chain segment to be inserted in parent graph\n",
    "    parent_graph - Parent graph that chain segment is going to be inserted into\n",
    "    prev_edge - Previous edge that chain segment will replace\n",
    "\n",
    "    Returns:\n",
    "    --------\n",
    "    Graph chain segment with edges and nodes appropriately relabeled.\n",
    "    \"\"\"\n",
    "    parent_node_list = list(parent_graph.nodes)\n",
    "    node_list = list(chain_seg.nodes)\n",
    "    next_node_number = np.max([int(node[1:]) for node in parent_node_list]) + 1\n",
    "    #print(next_node_number)\n",
    "    curr_node_number = next_node_number\n",
    "    node_mapping_dict = {}\n",
    "    count = 0\n",
    "    while (node_list[count][0] == 'v'):\n",
    "        node_mapping_dict[node_list[count]] = node_list[count][0] + str(curr_node_number)\n",
    "        curr_node_number += 1\n",
    "        count += 1\n",
    "\n",
    "    curr_node_number = next_node_number \n",
    "\n",
    "    while (count < len(node_list) and list(node_list)[count][0] == 'c'):\n",
    "        node_mapping_dict[node_list[count]] = node_list[count][0] + str(curr_node_number)\n",
    "        curr_node_number += 1\n",
    "        count += 1\n",
    "\n",
    "    relabeled_graph = nx.relabel_nodes(chain_seg, node_mapping_dict, copy=True)\n",
    "\n",
    "    return relabeled_graph\n",
    "\n",
    "def node_type_check(node_name: str) -> str:\n",
    "    \"\"\" \n",
    "    Finds what type of node (either 'check' or 'var') the given node is based on its name\n",
    "\n",
    "    Parameters:\n",
    "    -----------\n",
    "    node_name - Name of node \n",
    "\n",
    "    Returns:\n",
    "    --------\n",
    "    Whether it is a check or variable node.\n",
    "    \"\"\"\n",
    "    if (node_name[0] == 'c'):\n",
    "        return \"check\"\n",
    "    return \"var\"\n",
    "\n",
    "def get_first_var(graph_chain_seg: nx.Graph):\n",
    "    \"\"\" \n",
    "    Get the first variable node (by naming convention)\n",
    "\n",
    "    Parameters:\n",
    "    -----------\n",
    "    graph_chain_seg - Graph chain segment\n",
    "\n",
    "    Returns:\n",
    "    --------\n",
    "    First variable node of graph chain segment\n",
    "    \"\"\"\n",
    "    return list(graph_chain_seg.nodes)[0] \n",
    "\n",
    "def get_last_check(graph_chain_seg: nx.Graph):\n",
    "    \"\"\" \n",
    "    Get the last variable node (by naming convention)\n",
    "\n",
    "    Parameters:\n",
    "    -----------\n",
    "    graph_chain_seg - Graph chain segment\n",
    "\n",
    "    Returns:\n",
    "    --------\n",
    "    Last check node of graph chain segment\n",
    "    \"\"\"\n",
    "    last_check_pos = len(list(graph_chain_seg.nodes)) - 1\n",
    "    return list(graph_chain_seg.nodes)[last_check_pos]\n",
    "\n",
    "def add_graph_chain_seg(parent_graph: nx.Graph, graph_chain_seg: nx.Graph, prev_edge: Tuple) -> nx.Graph:\n",
    "    \"\"\"\n",
    "    Add the graph chain segment to the parent graph \n",
    "\n",
    "    Parameters:\n",
    "    -----------\n",
    "    parent_graph - The parent graph\n",
    "    graph_chain_seg - The graph chain segment to be added\n",
    "    prev_edge - The edge of the parent graph the graph chain segment is replacing\n",
    "\n",
    "    Returns:\n",
    "    --------\n",
    "    The parent graph with its 'prev_edge' replaced by 'graph_chain_seg'\n",
    "    \"\"\" \n",
    "    first_var_node = list(graph_chain_seg.nodes)[0]\n",
    "    #print(\"The first var node of the graph chain segment is: \" + first_var_node)\n",
    "    last_check_node = list(graph_chain_seg.nodes)[len(list(graph_chain_seg.nodes)) - 1]\n",
    "    #print(\"The last check node of the graph chain segment is: \" + last_check_node)\n",
    "\n",
    "    #print(\"The first edge to add is: \" + str((prev_edge[0], last_check_node)))\n",
    "    parent_graph.add_edge(prev_edge[0], last_check_node)\n",
    "    #print(\"The second edge to add is: \" + str((first_var_node, prev_edge[1])))\n",
    "    parent_graph.add_edge(first_var_node, prev_edge[1])\n",
    "\n",
    "    parent_graph.update(graph_chain_seg.edges)\n",
    "\n",
    "    return parent_graph\n",
    "\n",
    "def g_augmented_ldpc_code(parent_graph: nx.Graph, g: int) -> nx.Graph:\n",
    "    \"\"\" \n",
    "    Construct edge augmented LDPC code as per https://arxiv.org/abs/2005.07016 Section II\n",
    "\n",
    "    Parameters:\n",
    "    -----------\n",
    "    parent_graph - Parent Graph in the edge augmented LDPC code construction\n",
    "    g - Augmentation level of edge augmented LDPC code\n",
    "\n",
    "    Returns:\n",
    "    --------\n",
    "    edge g-augmented LDPC code based on given 'parent_graph' with added 'graph_chain_segment' at every edge of 'parent_graph'\n",
    "    \"\"\"\n",
    "    # Construct augmentation factor (tanner) graph based on 'g' value\n",
    "    #graph_chain_segment = construct_graph_chain_segment(g)\n",
    "\n",
    "    # Replace each edge of 'parent_graph' with augmentation factor (tanner) graph\n",
    "    assert g > 0, \"g must be greater than 0\"\n",
    "\n",
    "    parent_graph_cp = parent_graph.copy()\n",
    "    edge_list = list(parent_graph_cp.edges)\n",
    "    curr_graph_chain_segment = construct_graph_chain_segment(g)\n",
    "    for edge in edge_list:\n",
    "        parent_graph.remove_edge(edge[0], edge[1])\n",
    "        curr_graph_chain_segment = relabel_nodes(curr_graph_chain_segment, parent_graph)\n",
    "        #print(curr_graph_chain_segment.edges)\n",
    "        parent_graph = add_graph_chain_seg(parent_graph, curr_graph_chain_segment, edge)\n",
    "        #parent_graph.update(curr_graph_chain_segment.edges)\n",
    "\n",
    "\n",
    "    return parent_graph"
   ]
  },
  {
   "cell_type": "code",
   "execution_count": 4,
   "metadata": {
    "vscode": {
     "languageId": "python"
    }
   },
   "outputs": [
    {
     "name": "stdout",
     "output_type": "stream",
     "text": [
      "[[1. 1. 1.]\n",
      " [1. 1. 1.]]\n"
     ]
    },
    {
     "data": {
      "image/png": "[encoded data removed]",
      "text/plain": [
       "<Figure size 432x288 with 1 Axes>"
      ]
     },
     "metadata": {},
     "output_type": "display_data"
    }
   ],
   "source": [
    "parent_graph = parity_check_mat_to_tanner(np.array([[1,1,1],[1,1,1]]))\n",
    "nx.draw(parent_graph, with_labels=True, font_weight='bold')\n",
    "thingie = construct_graph_chain_segment(2)\n",
    "#thingie.add_edge('v0', 'c10')\n",
    "#print(thingie.nodes)\n",
    "#nx.draw(thingie, with_labels=True, font_weight='bold')\n",
    "pc_mat = tanner_to_parity_check_mat(parent_graph)\n",
    "print(pc_mat)"
   ]
  },
  {
   "cell_type": "code",
   "execution_count": 7,
   "metadata": {
    "vscode": {
     "languageId": "python"
    }
   },
   "outputs": [
    {
     "name": "stdout",
     "output_type": "stream",
     "text": [
      "18\n"
     ]
    },
    {
     "data": {
      "image/png": "[encoded data removed]",
      "text/plain": [
       "<Figure size 432x288 with 1 Axes>"
      ]
     },
     "metadata": {},
     "output_type": "display_data"
    }
   ],
   "source": [
    "parent_graph = parity_check_mat_to_tanner(np.array([[1,1,1],[1,1,1]]))\n",
    "#thingie = construct_graph_chain_segment(2)\n",
    "#print(thingie.nodes)\n",
    "#thingie_new = relabel_nodes(thingie, parent_graph)\n",
    "#nx.draw(thingie, with_labels=True, font_weight='bold')\n",
    "edge_aug_graph = g_augmented_ldpc_code(parent_graph, 1)\n",
    "print(len(list(edge_aug_graph.edges)))\n",
    "nx.draw(edge_aug_graph, with_labels=True, font_weight='bold')\n",
    "#nx.draw(parent_graph, with_labels=True, font_weight='bold')"
   ]
  },
  {
   "cell_type": "code",
   "execution_count": 8,
   "metadata": {
    "vscode": {
     "languageId": "python"
    }
   },
   "outputs": [],
   "source": [
    "def prod_code_vars(G: nx.Graph) -> List:\n",
    "    \"\"\" \n",
    "    Returns list of variable nodes in product code graph\n",
    "\n",
    "    Parameters:\n",
    "    -----------\n",
    "    G - product code graph\n",
    "    \"\"\"\n",
    "    check_node_list = []\n",
    "    for tup in list(G.nodes):\n",
    "        if (tup[0][0] == 'v' and tup[1][0] == 'v') or (tup[0][0] == 'c' and tup[1][0] == 'c'):\n",
    "            check_node_list.append(tup)\n",
    "    return check_node_list\n",
    "\n",
    "def prod_code_checks_X(G: nx.Graph) -> List:\n",
    "    \"\"\" \n",
    "    Returns list of check nodes for X checks in product code graph\n",
    "\n",
    "    Parameters:\n",
    "    -----------\n",
    "    G - product code graph\n",
    "    \"\"\"\n",
    "    X_check_var_list = []\n",
    "    for tup in list(G.nodes):\n",
    "        if (tup[0][0] == 'c' and tup[1][0] == 'v'):\n",
    "            X_check_var_list.append(tup)\n",
    "    return X_check_var_list\n",
    "\n",
    "def prod_code_checks_Z(G: nx.Graph) -> List:\n",
    "    \"\"\" \n",
    "    Returns list of check nodes for Z checks in product code graph\n",
    "\n",
    "    Parameters:\n",
    "    -----------\n",
    "    \"\"\"\n",
    "    Z_check_var_list = []\n",
    "    for tup in list(G.nodes):\n",
    "        if (tup[0][0] == 'v' and tup[1][0] == 'c'):\n",
    "            Z_check_var_list.append(tup)\n",
    "    return Z_check_var_list\n",
    "\n",
    "def parity_check_mat_X(G: nx.Graph, check_nodes_X: List, var_nodes: List) -> np.array:\n",
    "    \"\"\" \n",
    "    Returns the H_X parity-check matrix\n",
    "\n",
    "    Parameters:\n",
    "    -----------\n",
    "    * G - product code graph\n",
    "    * check_nodes_X - list of check nodes involved in X checks of product code\n",
    "    * var_nodes - list of variable nodes of Tanner graph of product code \n",
    "    \"\"\"\n",
    "    num_check_nodes_X = len(check_nodes_X)\n",
    "    num_var_nodes = len(var_nodes)\n",
    "    x_mat = np.zeros((num_check_nodes_X, num_var_nodes))\n",
    "    for i in range(num_check_nodes_X):\n",
    "        for nbr in nx.neighbors(G, check_nodes_X[i]):\n",
    "            x_mat[i][var_nodes.index(nbr)] = 1\n",
    "    return x_mat\n",
    "\n",
    "def parity_check_mat_Z(G: nx.Graph, check_nodes_Z: List, var_nodes: List) -> np.array:\n",
    "    \"\"\" \n",
    "    Returns the H_Z parity-check matrix\n",
    "\n",
    "    Parameters:\n",
    "    -----------\n",
    "    * G - product code graph\n",
    "    * check_nodes_Z - list of check nodes involved in Z checks of product code\n",
    "    * var_nodes - list of variable nodes of Tanner graph of product code\n",
    "    \"\"\"\n",
    "    num_check_nodes_Z = len(check_nodes_Z)\n",
    "    num_var_nodes = len(var_nodes)\n",
    "    z_mat = np.zeros((num_check_nodes_Z, num_var_nodes))\n",
    "    for i in range(num_check_nodes_Z):\n",
    "        for nbr in nx.neighbors(G, check_nodes_Z[i]):\n",
    "            z_mat[i][var_nodes.index(nbr)] = 1\n",
    "    return z_mat\n",
    "\n",
    "def construct_hypergraph_prod_code(pc_mat_1: np.array, pc_mat_2: np.array) -> Tuple:\n",
    "    \"\"\" \n",
    "    Constructs hypergraph product code from 2 classical LDPC Code. \n",
    "\n",
    "    Parameters:\n",
    "    -----------\n",
    "    * pc_mat_1 - 1st parity-check matrix\n",
    "    * pc_mat_2 - 2nd parity-check matrix\n",
    "\n",
    "    Returns:\n",
    "    * (X_pc_mat, Z_pc_mat) - Tuple where 1st element is the X-parity check matrix and 2nd element is the Z-parity check matrix\n",
    "    \"\"\"\n",
    "    tan_graph_1 = parity_check_mat_to_tanner(pc_mat_1)\n",
    "    tan_graph_2 = parity_check_mat_to_tanner(pc_mat_2)\n",
    "    prod_code_graph = nx.cartesian_product(tan_graph_1, tan_graph_2)\n",
    "    var_node_list = prod_code_vars(prod_code_graph)\n",
    "    X_check_list = prod_code_checks_X(prod_code_graph)\n",
    "    Z_check_list = prod_code_checks_Z(prod_code_graph)\n",
    "    X_parity_check_mat = parity_check_mat_X(prod_code_graph, X_check_list, var_node_list)\n",
    "    Z_parity_check_mat = parity_check_mat_Z(prod_code_graph, Z_check_list, var_node_list)\n",
    "    return (X_parity_check_mat, Z_parity_check_mat)"
   ]
  },
  {
   "cell_type": "markdown",
   "metadata": {},
   "source": [
    "The rows of the parity check matrix of C generates C_dual. Therefore, the rows of the parity-check matrix of C_dual generates C. C is the null-space of the parity-check matrix of C. \n",
    "\n",
    "1) Find out the null-space of the parity-check matrix of C\n",
    "2) Fidn the basis of this null-space\n",
    "3) This defines the rows of C_dual"
   ]
  },
  {
   "cell_type": "code",
   "execution_count": 12,
   "metadata": {
    "vscode": {
     "languageId": "python"
    }
   },
   "outputs": [
    {
     "name": "stdout",
     "output_type": "stream",
     "text": [
      "[[1 1 1]\n",
      " [1 1 1]]\n",
      "[[1 0 1]\n",
      " [0 1 1]]\n",
      "The X parity-check matrix for this code is: \n",
      "[[1. 0. 0. 1. 0. 0. 1. 0. 0. 1. 0. 0. 0.]\n",
      " [0. 1. 0. 0. 1. 0. 0. 1. 0. 0. 1. 0. 0.]\n",
      " [0. 0. 1. 0. 0. 1. 0. 0. 1. 1. 1. 0. 0.]\n",
      " [1. 0. 0. 1. 0. 0. 1. 0. 0. 0. 0. 1. 0.]\n",
      " [0. 1. 0. 0. 1. 0. 0. 1. 0. 0. 0. 0. 1.]\n",
      " [0. 0. 1. 0. 0. 1. 0. 0. 1. 0. 0. 1. 1.]]\n",
      "The Z parity-check matrix for this code is: \n",
      "[[1. 0. 1. 0. 0. 0. 0. 0. 0. 1. 0. 1. 0.]\n",
      " [0. 1. 1. 0. 0. 0. 0. 0. 0. 0. 1. 0. 1.]\n",
      " [0. 0. 0. 1. 0. 1. 0. 0. 0. 1. 0. 1. 0.]\n",
      " [0. 0. 0. 0. 1. 1. 0. 0. 0. 0. 1. 0. 1.]\n",
      " [0. 0. 0. 0. 0. 0. 1. 0. 1. 1. 0. 1. 0.]\n",
      " [0. 0. 0. 0. 0. 0. 0. 1. 1. 0. 1. 0. 1.]]\n",
      "13\n"
     ]
    }
   ],
   "source": [
    "# Tanner graph for (2,3)-LDPC code\n",
    "two_three_code_tanner = parity_check_mat_to_tanner(np.array([[1,1,1],[1,1,1]]))\n",
    "\n",
    "# Parity-check matrix for above tanner graph\n",
    "two_three_code_pc = matrix(GF(2), tanner_to_parity_check_mat(two_three_code_tanner))\n",
    "print(np.array(two_three_code_pc, dtype=int))\n",
    "\n",
    "# Codespace for (2,3)-LDPC code\n",
    "two_three_code = two_three_code_pc.right_kernel()\n",
    "\n",
    "# Parity-check matrix for dual of (2,3)-LDPC code\n",
    "two_three_code_dual_pc = np.array(two_three_code.basis_matrix(), dtype=int)\n",
    "print(two_three_code_dual_pc)\n",
    "\n",
    "# Tanner graph for dual of (2,3)-LDPC code\n",
    "two_three_code_dual_tanner = parity_check_mat_to_tanner(two_three_code_dual_pc)\n",
    "#nx.draw(two_three_code_dual_tanner, with_labels=True, font_weight='bold')\n",
    "\n",
    "# Construct semi-topological code with g = 0\n",
    "g_zero_code = construct_hypergraph_prod_code(np.array(two_three_code_pc, dtype=int), two_three_code_dual_pc)\n",
    "g_zero_code_x = g_zero_code[0]\n",
    "print(\"The X parity-check matrix for this code is: \" + \"\\n\" + str(g_zero_code_x))\n",
    "g_zero_code_z = g_zero_code[1]\n",
    "print(\"The Z parity-check matrix for this code is: \" + \"\\n\" + str(g_zero_code_z))\n",
    "print(len(g_zero_code_x[0]))\n"
   ]
  },
  {
   "cell_type": "code",
   "execution_count": null,
   "metadata": {
    "vscode": {
     "languageId": "python"
    }
   },
   "outputs": [],
   "source": [
    "two_three_code_tanner = parity_check_mat_to_tanner(np.array([[1,1,1],[1,1,1]]))\n",
    "\n",
    "# Construct semi-topological code with g = 1\n",
    "two_three_aug_1_tanner = g_augmented_ldpc_code(two_three_code_tanner, 1)\n",
    "nx.draw(two_three_aug_1_tanner, with_labels=True, font_weight='bold')\n",
    "\n",
    "# Parity-check matrix for above tanner graph\n",
    "two_three_aug_1_pc = matrix(GF(2), tanner_to_parity_check_mat(two_three_aug_1_tanner))\n",
    "print(np.array(two_three_aug_1_pc, dtype=int))\n",
    "\n",
    "# Codespace for above code\n",
    "two_three_aug_1_code = two_three_aug_1_pc.right_kernel()\n",
    "\n",
    "# Parity-check matrix for dual of above code\n",
    "two_three_aug_1_dual_pc = np.array(two_three_aug_1_code.basis_matrix(), dtype=int)\n",
    "print(two_three_aug_1_dual_pc)\n",
    "\n",
    "# Tanner graph for dual of above code\n",
    "two_three_aug_1_dual_tanner = parity_check_mat_to_tanner(two_three_aug_1_dual_pc)\n",
    "\n",
    "# Construct semi_topological code with g = 1\n",
    "g_one_code = construct_hypergraph_prod_code(np.array(two_three_aug_1_pc, dtype=int), two_three_aug_1_dual_pc)\n",
    "g_one_code_x = g_one_code[0]\n",
    "print(\"The X parity-check matrix for this code is: \" + \"\\n\" + str(g_one_code_x))\n",
    "g_one_code_z = g_one_code[1]\n",
    "print(\"The Z parity-check matrix for this code is: \" + \"\\n\" + str(g_one_code_z))\n",
    "print(len(g_one_code_x[0]))\n"
   ]
  },
  {
   "cell_type": "code",
   "execution_count": null,
   "metadata": {
    "vscode": {
     "languageId": "python"
    }
   },
   "outputs": [],
   "source": [
    "def belief_prop(H: np.array, s: np.array, p: float) -> Tuple:\n",
    "    \"\"\" \n",
    "    Belief Propagation Algorithm for Decoding LDPC Codes\n",
    "\n",
    "    Parameters:\n",
    "    -----------\n",
    "    H - parity-check matrix corresponding to either X or Z checks\n",
    "    s - Error syndrome\n",
    "    p - Channel error rate for chosen noise channel\n",
    "    \"\"\"\n",
    "    # Channel Log Likelihood Ratio\n",
    "    p_l = np.log((1 - p)/p)\n",
    "\n",
    "    # (1) Initialization\n",
    "    "
   ]
  }
 ],
 "metadata": {
  "kernelspec": {
   "display_name": "SageMath 9.6",
   "language": "sage",
   "name": "SageMath-9.6"
  },
  "language_info": {
   "codemirror_mode": {
    "name": "ipython",
    "version": 3
   },
   "file_extension": ".py",
   "mimetype": "text/x-python",
   "name": "sage",
   "nbconvert_exporter": "python",
   "pygments_lexer": "ipython3",
   "version": "3.10.3"
  },
  "orig_nbformat": 4,
  "vscode": {
   "interpreter": {
    "hash": "5a2db16169323f9c61c6ed4d885397ad0494f2e790734ab97aaeab1bbd202ff7"
   }
  }
 },
 "nbformat": 4,
 "nbformat_minor": 2
}
