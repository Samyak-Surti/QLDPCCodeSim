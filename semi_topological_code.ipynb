{
 "cells": [
  {
   "cell_type": "markdown",
   "metadata": {},
   "source": [
    "### Semi-Topological Codes\n",
    "* Construction based off of https://arxiv.org/abs/2005.07016"
   ]
  },
  {
   "cell_type": "code",
   "execution_count": 1,
   "metadata": {},
   "outputs": [],
   "source": [
    "import networkx as nx\n",
    "import numpy as np\n",
    "import matplotlib.pyplot as plt\n",
    "from typing import List, Tuple\n",
    "import galois"
   ]
  },
  {
   "cell_type": "code",
   "execution_count": 2,
   "metadata": {},
   "outputs": [],
   "source": [
    "def tanner_to_parity_check_mat(G: nx.Graph) -> np.array:\n",
    "    \"\"\"\n",
    "    Converts Tanner graph 'G' into parity check matrix\n",
    "\n",
    "    Parameters:\n",
    "    -----------\n",
    "    G - Tanner graph\n",
    "    \"\"\"\n",
    "    num_var_nodes = 0\n",
    "    num_check_nodes = 0\n",
    "    check_node_list = []\n",
    "    G_nodes = list(G.nodes)\n",
    "    G_edges = list(G.edges)\n",
    "    for node in G_nodes:\n",
    "        if (node[0] == 'v'):\n",
    "            num_var_nodes += 1\n",
    "        else:\n",
    "            num_check_nodes += 1\n",
    "    \n",
    "    mat = np.zeros((num_check_nodes, num_var_nodes))\n",
    "    for edge in G_edges:\n",
    "        if (edge[0][0] == 'c'):\n",
    "            mat[int(edge[0][1])][int(edge[1][1])] = 1\n",
    "        else:\n",
    "            mat[int(edge[1][1])][int(edge[0][1])] = 1\n",
    "    pc_mat_1 = nx.incidence_matrix(tan_graph_1)\n",
    "\n",
    "def parity_check_mat_to_tanner(mat: np.array) -> nx.Graph:\n",
    "    \"\"\" \n",
    "    Converts parity check matrix 'mat' into Tanner graph\n",
    "\n",
    "    Parameters:\n",
    "    -----------\n",
    "    mat - parity check matrix\n",
    "    \"\"\"\n",
    "    num_var_nodes = mat.shape[1]\n",
    "    num_check_nodes = mat.shape[0]\n",
    "    tan_graph = nx.Graph();\n",
    "    for i in range(num_var_nodes):\n",
    "        tan_graph.add_node(\"v\" + str(i))\n",
    "\n",
    "    for j in range(num_check_nodes):\n",
    "        tan_graph.add_node(\"c\" + str(j))\n",
    "\n",
    "    for i in range(mat.shape[0]):\n",
    "        for j in range(mat.shape[1]):\n",
    "            if (mat[i][j] == 1):\n",
    "                tan_graph.add_edge(\"c\" + str(i), \"v\" + str(j))\n",
    "    \n",
    "    return tan_graph"
   ]
  },
  {
   "cell_type": "code",
   "execution_count": 3,
   "metadata": {},
   "outputs": [],
   "source": [
    "def construct_graph_chain_segment(g: int) -> nx.Graph:\n",
    "    \"\"\" \n",
    "    Construct augmentation tanner graph based on 'g' value \n",
    "\n",
    "    Parameters:\n",
    "    -----------\n",
    "    g - Level of augmentation\n",
    "\n",
    "    Returns:\n",
    "    --------\n",
    "    Augmentation graph to be inserted in parent tanner graph of choice\n",
    "    \"\"\"\n",
    "    aug_graph_pc_mat = np.eye(g)\n",
    "    for i in range(g - 1):\n",
    "        aug_graph_pc_mat[i][i + 1] = 1\n",
    "    print(aug_graph_pc_mat)\n",
    "    return parity_check_mat_to_tanner(aug_graph_pc_mat)\n",
    "\n",
    "def relabel_nodes(chain_seg: nx.Graph, parent_graph: nx.Graph) -> nx.Graph:\n",
    "    \"\"\" \n",
    "    Rename nodes of graph chain segment according to where in parent graph it is going to be inserted.\n",
    "\n",
    "    Parameters:\n",
    "    -----------\n",
    "    chain_seg - graph chain segment to be inserted in parent graph\n",
    "    parent_graph - Parent graph that chain segment is going to be inserted into\n",
    "\n",
    "    Returns:\n",
    "    --------\n",
    "    Graph chain segment with edges and nodes appropriately relabeled.\n",
    "    \"\"\"\n",
    "    node_list = list(chain_seg.nodes)\n",
    "    next_node_number = int(node_list[len(node_list) - 1][1]) + 1\n",
    "    curr_node_number = next_node_number\n",
    "    node_mapping_dict = {}\n",
    "    count = 0\n",
    "    while (node_list[count][0] == 'v'):\n",
    "        node_mapping_dict[node_list[count]] = node_list[count][0] + str(curr_node_number)\n",
    "        curr_node_number += 1\n",
    "        count += 1\n",
    "\n",
    "    curr_node_number = next_node_number \n",
    "\n",
    "    while (count < len(node_list) and list(node_list)[count][0] == 'c'):\n",
    "        node_mapping_dict[node_list[count]] = node_list[count][0] + str(curr_node_number)\n",
    "        curr_node_number += 1\n",
    "        count += 1\n",
    "\n",
    "    relabeled_graph = nx.relabel_nodes(chain_seg, node_mapping_dict, copy=True)\n",
    "    return relabeled_graph\n",
    "    \n",
    "\n",
    "\n",
    "def g_augmented_ldpc_code(parent_graph: nx.Graph, g: int) -> nx.Graph:\n",
    "    \"\"\" \n",
    "    Construct edge augmented LDPC code as per https://arxiv.org/abs/2005.07016 Section II\n",
    "\n",
    "    Parameters:\n",
    "    -----------\n",
    "    parent_graph - Parent Graph in the edge augmented LDPC code construction\n",
    "    g - Augmentation level of edge augmented LDPC code\n",
    "\n",
    "    Returns:\n",
    "    --------\n",
    "    edge g-augmented LDPC code based on given 'parent_graph' with added 'graph_chain_segment' at every edge of 'parent_graph'\n",
    "    \"\"\"\n",
    "    # Construct augmentation factor (tanner) graph based on 'g' value\n",
    "    #graph_chain_segment = construct_graph_chain_segment(g)\n",
    "\n",
    "    # Replace each edge of 'parent_graph' with augmentation factor (tanner) graph\n",
    "    parent_graph_cp = parent_graph.copy()\n",
    "    edge_list = list(parent_graph.edges)\n",
    "    for edge in edge_list:\n",
    "        curr_graph_chain_segment = construct_graph_chain_segment(g)\n",
    "        parent_graph_cp.remove_edge(edge[0], edge[1])\n",
    "        parent_graph_cp.update(curr_graph_chain_segment.edges)\n",
    "        parent_graph_cp.add_edge(edge[0], list(curr_graph_chain_segment.nodes)[0])\n",
    "        parent_graph_cp.add_edge(list(curr_graph_chain_segment.nodes)[len(list(curr_graph_chain_segment.nodes)) - 1], edge[1])\n",
    "\n",
    "        \n",
    "    # "
   ]
  },
  {
   "cell_type": "code",
   "execution_count": 6,
   "metadata": {},
   "outputs": [
    {
     "name": "stdout",
     "output_type": "stream",
     "text": [
      "[[1. 1.]\n",
      " [0. 1.]]\n"
     ]
    },
    {
     "data": {
      "image/png": "[encoded data removed]",
      "text/plain": [
       "<Figure size 432x288 with 1 Axes>"
      ]
     },
     "metadata": {},
     "output_type": "display_data"
    }
   ],
   "source": [
    "G = construct_graph_chain_segment(2)\n",
    "#nx.draw(G, with_labels=True, font_weight='bold')\n",
    "new_G = relabel_nodes(G)\n",
    "#nx.draw(new_G, with_labels=True, font_weight='bold')\n",
    "G.update(new_G.edges)\n",
    "nx.draw(G, with_labels=True, font_weight='bold')"
   ]
  },
  {
   "cell_type": "code",
   "execution_count": 4,
   "metadata": {},
   "outputs": [],
   "source": [
    "def construct_hypergraph_prod_code(pc_mat_1: np.array, pc_mat_2: np.array) -> Tuple:\n",
    "    \"\"\" \n",
    "    Constructs hypergraph product code from 2 classical LDPC Code. \n",
    "\n",
    "    Parameters:\n",
    "    -----------\n",
    "    * pc_mat_1 - 1st parity-check matrix\n",
    "    * pc_mat_2 - 2nd parity-check matrix\n",
    "\n",
    "    Returns:\n",
    "    * (X_pc_mat, Z_pc_mat) - Tuple where 1st element is the X-parity check matrix and 2nd element is the Z-parity check matrix\n",
    "    \"\"\"\n",
    "    tan_graph_1 = parity_check_mat_to_tanner(pc_mat_1)\n",
    "    tan_graph_2 = parity_check_mat_to_tanner(pc_mat_2)\n",
    "    prod_code_graph = nx.cartesian_product(tan_graph_1, tan_graph_2)\n",
    "    var_node_list = prod_code_vars(prod_code_graph)\n",
    "    X_check_list = prod_code_checks_X(prod_code_graph)\n",
    "    Z_check_list = prod_code_checks_Z(prod_code_graph)\n",
    "    X_parity_check_mat = parity_check_mat_X(prod_code_graph, X_check_list, var_node_list)\n",
    "    Z_parity_check_mat = parity_check_mat_Z(prod_code_graph, Z_check_list, var_node_list)\n",
    "    return (X_parity_check_mat, Z_parity_check_mat)"
   ]
  },
  {
   "cell_type": "code",
   "execution_count": null,
   "metadata": {},
   "outputs": [],
   "source": []
  }
 ],
 "metadata": {
  "kernelspec": {
   "display_name": "Python 3.9.7 ('topo_quant')",
   "language": "python",
   "name": "python3"
  },
  "language_info": {
   "codemirror_mode": {
    "name": "ipython",
    "version": 3
   },
   "file_extension": ".py",
   "mimetype": "text/x-python",
   "name": "python",
   "nbconvert_exporter": "python",
   "pygments_lexer": "ipython3",
   "version": "3.9.7"
  },
  "orig_nbformat": 4,
  "vscode": {
   "interpreter": {
    "hash": "d4046caf55f50b54fa7ffdea1ad98452a8feb9cf62ccba5e4c76fe622e38f8fa"
   }
  }
 },
 "nbformat": 4,
 "nbformat_minor": 2
}
