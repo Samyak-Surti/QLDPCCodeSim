{
 "cells": [
  {
   "cell_type": "code",
   "execution_count": 10,
   "metadata": {},
   "outputs": [],
   "source": [
    "import numpy as np\n",
    "from ldpc import bposd_decoder\n",
    "from ldpc.codes import rep_code \n",
    "from bposd.hgp import hgp\n",
    "from tqdm import tqdm\n",
    "import time\n",
    "from qecsim import paulitools as pt \n",
    "from qecsim.models.generic import DepolarizingErrorModel\n",
    "from qecsim.models.toric import ToricCode\n",
    "import galois\n",
    "from typing import List, Tuple\n",
    "import nbimporter\n",
    "import BP_OSD_Simulation_V2 as my_bposd"
   ]
  },
  {
   "cell_type": "code",
   "execution_count": 6,
   "metadata": {},
   "outputs": [],
   "source": [
    "dim = 6\n",
    "my_code = ToricCode(dim,dim)\n",
    "my_error_model = DepolarizingErrorModel()\n",
    "GF = galois.GF(2)\n",
    "num_qubits = 2 * dim ** 2\n",
    "error_probability = 0.08\n",
    "z_stabs = (my_code.stabilizers[:dim ** 2])[:, 2 * dim ** 2:]\n",
    "x_stabs = (my_code.stabilizers[dim ** 2:])[:, :2 * dim ** 2]"
   ]
  },
  {
   "cell_type": "code",
   "execution_count": 7,
   "metadata": {},
   "outputs": [],
   "source": [
    "import numpy as np\n",
    "from ldpc import bposd_decoder\n",
    "\n",
    "bpd_X=bposd_decoder(\n",
    "    z_stabs,#the parity check matrix\n",
    "    error_rate=error_probability,\n",
    "    channel_probs=[None], #assign error_rate to each qubit. This will override \"error_rate\" input variable\n",
    "    max_iter=num_qubits, #the maximum number of iterations for BP)\n",
    "    bp_method=\"ms\",\n",
    "    ms_scaling_factor=0, #min sum scaling factor. If set to zero the variable scaling factor method is used\n",
    "    osd_method=\"osd_cs\", #the OSD method. Choose from:  1) \"osd_e\", \"osd_cs\", \"osd0\"\n",
    "    osd_order=7 #the osd search depth\n",
    "    )\n",
    "\n",
    "bpd_Z=bposd_decoder(\n",
    "    x_stabs,#the parity check matrix\n",
    "    error_rate=error_probability,\n",
    "    channel_probs=[None], #assign error_rate to each qubit. This will override \"error_rate\" input variable\n",
    "    max_iter=num_qubits, #the maximum number of iterations for BP)\n",
    "    bp_method=\"ms\",\n",
    "    ms_scaling_factor=0, #min sum scaling factor. If set to zero the variable scaling factor method is used\n",
    "    osd_method=\"osd_cs\", #the OSD method. Choose from:  1) \"osd_e\", \"osd_cs\", \"osd0\"\n",
    "    osd_order=7 #the osd search depth\n",
    "    )"
   ]
  },
  {
   "cell_type": "code",
   "execution_count": 8,
   "metadata": {},
   "outputs": [
    {
     "name": "stdout",
     "output_type": "stream",
     "text": [
      "X Error\n",
      "[0 0 0 0 0 0 0 0 0 0 0 0 0 0 0 0 0 0 0 0 0 0 0 0 0 0 0 0 0 0 0 0 0 1 0 0 0\n",
      " 0 0 0 0 0 1 0 0 0 0 0 0 0 0 0 0 0 1 1 0 0 0 0 0 0 0 0 0 0 0 0 0 0 0 0]\n",
      "Z Error\n",
      "[0 0 0 0 1 0 0 0 0 0 0 0 0 0 0 0 0 0 0 0 0 0 0 0 0 0 0 0 1 0 0 0 0 0 0 0 0\n",
      " 0 0 0 0 0 0 0 0 0 0 0 0 0 0 0 0 0 1 1 0 0 0 0 0 0 0 0 0 0 0 0 0 0 0 0]\n",
      "BP+OSD Decoding X\n",
      "[0 0 0 0 0 0 0 0 0 0 0 0 0 0 0 0 0 0 0 0 0 0 0 0 0 0 0 0 0 0 0 0 0 1 0 0 0\n",
      " 0 0 0 0 0 1 0 0 0 0 0 0 0 0 0 0 0 1 1 0 0 0 0 0 0 0 0 0 0 0 0 0 0 0 0]\n",
      "BP+OSD Decoding Z\n",
      "[0 0 0 0 1 0 0 0 0 0 0 0 0 0 0 0 0 0 1 0 0 0 0 0 1 0 0 0 1 0 0 0 0 0 0 0 0\n",
      " 0 0 0 0 0 0 0 0 0 0 0 0 0 0 0 0 0 0 0 0 0 0 0 0 0 0 0 0 0 0 0 0 0 0 0]\n",
      "Commutation with Stabs\n",
      "0\n",
      "0\n"
     ]
    }
   ],
   "source": [
    "rng = np.random.default_rng()\n",
    "# Error: random error based on error probability\n",
    "error = my_error_model.generate(my_code, error_probability, rng)\n",
    "while (sum(error) == 0):\n",
    "    error = my_error_model.generate(my_code, error_probability, rng)\n",
    "\n",
    "z_error = error[2 * dim**2:]\n",
    "x_error = error[:2 * dim**2]\n",
    "z_syndrome = np.mod(x_stabs @ z_error,2)\n",
    "x_syndrome = np.mod(z_stabs @ x_error, 2)\n",
    "bpd_X.decode(x_syndrome)\n",
    "bpd_Z.decode(z_syndrome)\n",
    "\n",
    "print(\"X Error\")\n",
    "print(x_error)\n",
    "print(\"Z Error\")\n",
    "print(z_error)\n",
    "print(\"BP+OSD Decoding X\")\n",
    "print(bpd_X.osdw_decoding)\n",
    "print(\"BP+OSD Decoding Z\")\n",
    "print(bpd_Z.osdw_decoding)\n",
    "#Decoding is successful if the residual error commutes with the logical operators\n",
    "recovery_x = (bpd_X.osdw_decoding) %2\n",
    "recovery_z = (bpd_Z.osdw_decoding) %2\n",
    "residual_error_x = (recovery_x + x_error) %2\n",
    "residual_error_z = (recovery_z + z_error) %2\n",
    "\n",
    "print(\"Commutation with Stabs\")\n",
    "print(np.sum((z_stabs@residual_error_x) % 2))\n",
    "print(np.sum((x_stabs@residual_error_z) % 2))"
   ]
  },
  {
   "cell_type": "code",
   "execution_count": 14,
   "metadata": {},
   "outputs": [
    {
     "name": "stderr",
     "output_type": "stream",
     "text": [
      "100%|██████████| 2000/2000 [00:00<00:00, 3390.00it/s]\n"
     ]
    }
   ],
   "source": [
    "num_rounds = 2000\n",
    "codespace_projection = [0]*num_rounds\n",
    "logical_errors = [0]*num_rounds\n",
    "uncorrected_logical_error_rate = [0]*num_rounds\n",
    "count = 0\n",
    "\n",
    "for r in tqdm(range(num_rounds)):\n",
    "    start_time = time.time()\n",
    "    rng = np.random.default_rng()\n",
    "    # Error: random error based on error probability\n",
    "    error = my_error_model.generate(my_code, error_probability, rng)\n",
    "    while (sum(error) == 0):\n",
    "        error = my_error_model.generate(my_code, error_probability, rng)\n",
    "\n",
    "    z_error = error[2 * dim**2:]\n",
    "    x_error = error[:2 * dim**2]\n",
    "    z_syndrome = np.mod(x_stabs @ z_error,2)\n",
    "    x_syndrome = np.mod(z_stabs @ x_error, 2)\n",
    "    bpd_X.decode(x_syndrome)\n",
    "    bpd_Z.decode(z_syndrome)\n",
    "\n",
    "    recovery = np.array(np.hstack((bpd_X.osdw_decoding, bpd_Z.osdw_decoding)), dtype='int32')\n",
    "    runtime = time.time() - start_time\n",
    "\n",
    "    if sum(pt.bsp(recovery ^ error, my_code.stabilizers.T)) > 0:\n",
    "        codespace_projection[r] = 1\n",
    "        f.write(error_string)\n",
    "    if sum(pt.bsp(recovery ^ error, my_code.logicals.T)) > 0:\n",
    "        logical_errors[r] = 1\n",
    "    if sum(pt.bsp(error, my_code.logicals.T)) > 0:\n",
    "        uncorrected_logical_error_rate[r] = 1\n",
    "    "
   ]
  },
  {
   "cell_type": "code",
   "execution_count": 15,
   "metadata": {},
   "outputs": [
    {
     "name": "stdout",
     "output_type": "stream",
     "text": [
      "number of codespace projection failures 0\n",
      "logical error rate 0.0815\n",
      "uncorrected error rate 0.6725\n",
      "physical error rate 0.08\n"
     ]
    }
   ],
   "source": [
    "print('number of codespace projection failures', sum(codespace_projection))\n",
    "print('logical error rate', sum(logical_errors)/len(logical_errors))\n",
    "print('uncorrected error rate', sum(uncorrected_logical_error_rate)/len(uncorrected_logical_error_rate))\n",
    "print('physical error rate', error_probability)"
   ]
  },
  {
   "cell_type": "code",
   "execution_count": null,
   "metadata": {},
   "outputs": [],
   "source": []
  }
 ],
 "metadata": {
  "kernelspec": {
   "display_name": "qcenv",
   "language": "python",
   "name": "python3"
  },
  "language_info": {
   "codemirror_mode": {
    "name": "ipython",
    "version": 3
   },
   "file_extension": ".py",
   "mimetype": "text/x-python",
   "name": "python",
   "nbconvert_exporter": "python",
   "pygments_lexer": "ipython3",
   "version": "3.9.16"
  },
  "orig_nbformat": 4
 },
 "nbformat": 4,
 "nbformat_minor": 2
}
