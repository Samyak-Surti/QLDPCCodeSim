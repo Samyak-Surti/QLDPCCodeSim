{
 "cells": [
  {
   "cell_type": "code",
   "execution_count": 10,
   "metadata": {},
   "outputs": [],
   "source": [
    "import numpy as np\n",
    "from ldpc import bposd_decoder\n",
    "from ldpc.codes import rep_code \n",
    "from bposd.hgp import hgp\n",
    "from qecsim import paulitools as pt \n",
    "from qecsim.models.generic import DepolarizingErrorModel\n",
    "from qecsim.models.toric import ToricCode\n",
    "import galois\n",
    "import tqdm\n",
    "import time\n",
    "import nbimporter\n",
    "import BP_OSD_Simulation_V2 as my_bposd"
   ]
  },
  {
   "cell_type": "code",
   "execution_count": 15,
   "metadata": {},
   "outputs": [
    {
     "name": "stdout",
     "output_type": "stream",
     "text": [
      "61\n",
      "Error\n",
      "[0 0 0 1 1 1 0 1 0 1 1 0 0 0 0 1 0 1 0 1 0 0 1 0 0 0 0 1 1 0 0 0 0 0 1 1 1\n",
      " 1 1 1 0 1 0 1 1 0 1 0 0 0 1 0 0 0 0 1 0 1 0 1 0]\n",
      "BP+OSD Decoding\n",
      "[0 0 1 1 0 0 0 0 0 1 1 0 0 0 0 0 0 0 1 1 0 0 1 0 0 0 0 1 0 0 0 0 0 0 0 0 1\n",
      " 0 0 0 0 0 0 0 0 0 0 0 0 0 0 0 0 0 0 0 0 1 0 0 0]\n",
      "Logical Error: Yes\n",
      "\n",
      "[0 1 0 0 0 0 0 1 0 0 1 0 0 0 1 0 0 0 0 0 0 0 0 1 0 1 0 1 0 0 0 1 0 0 1 0 0\n",
      " 0 0 0 1 0 0 0 0 0 0 0 0 0 0 1 0 0 0 0 0 0 0 0 0]\n",
      "Logical Error: Yes\n",
      "\n"
     ]
    }
   ],
   "source": [
    "error=np.random.randint(2, size=surface_code.N)\n",
    "print(len(error))\n",
    "while(sum(error) == 0):\n",
    "    error = np.random.randint(2, size=surface_code.N)\n",
    "syndrome_X=surface_code.hz@error % 2\n",
    "bpd.decode(syndrome_X)\n",
    "\n",
    "print(\"Error\")\n",
    "print(error)\n",
    "print(\"BP+OSD Decoding\")\n",
    "print(bpd.osdw_decoding)\n",
    "#Decoding is successful if the residual error commutes with the logical operators\n",
    "\n",
    "residual_error=(bpd.osdw_decoding+error) %2\n",
    "a=(surface_code.lz@residual_error%2).any()\n",
    "if a: a=\"Yes\"\n",
    "else: a=\"No\"\n",
    "print(f\"Logical Error: {a}\\n\")\n",
    "\n",
    "syndrome_Z = surface_code.hx@error % 2\n",
    "bpd.decode(syndrome_Z)\n",
    "print(bpd.osdw_decoding)\n",
    "\n",
    "residular_error = (bpd.osdw_decoding+error) % 2\n",
    "a=(surface_code.lx@residular_error%2).any()\n",
    "if a: a=\"Yes\"\n",
    "else: b=\"No\"\n",
    "print(f\"Logical Error: {a}\\n\")\n",
    "\n"
   ]
  },
  {
   "cell_type": "code",
   "execution_count": null,
   "metadata": {},
   "outputs": [],
   "source": [
    "num_iter = 2000\n",
    "codespace_projection = [0]*num_rounds\n",
    "logical_errors = [0]*num_rounds\n",
    "uncorrected_logical_error_rate = [0]*num_rounds\n",
    "error_probability = 0.08\n",
    "count = 0\n",
    "\n",
    "for r in tqdm(range(num_iter)):\n",
    "    # Simulate error\n",
    "    error=np.random.randint(2, size=surface_code.N)\n",
    "    while(sum(error) == 0):\n",
    "        error = np.random.randint(2, size=surface_code.N)\n",
    "\n",
    "    # Get syndromes\n",
    "    syndrome_x = surface_code.hz@error % 2\n",
    "    syndrome_z = surface_code.hx@error % 2\n",
    "    bpd.decode(syndrome_x)\n",
    "    print(\"BP+OSD Decoding for X Errors\")\n",
    "    print(bpd.osdw_decoding)\n",
    "    bpd.decode(syndrome_z)\n",
    "    print(\"BP+OSD Decoding for Z Errors\")\n",
    "    print(bpd.osdw_decoding)"
   ]
  }
 ],
 "metadata": {
  "kernelspec": {
   "display_name": "qcenv",
   "language": "python",
   "name": "python3"
  },
  "language_info": {
   "codemirror_mode": {
    "name": "ipython",
    "version": 3
   },
   "file_extension": ".py",
   "mimetype": "text/x-python",
   "name": "python",
   "nbconvert_exporter": "python",
   "pygments_lexer": "ipython3",
   "version": "3.9.7"
  },
  "orig_nbformat": 4
 },
 "nbformat": 4,
 "nbformat_minor": 2
}
