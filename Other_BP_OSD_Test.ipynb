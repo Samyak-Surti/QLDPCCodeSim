{
 "cells": [
  {
   "cell_type": "code",
   "execution_count": 1,
   "metadata": {},
   "outputs": [],
   "source": [
    "import numpy as np\n",
    "from ldpc import bposd_decoder\n",
    "from ldpc.codes import rep_code \n",
    "from bposd.hgp import hgp\n",
    "import tqdm\n",
    "import time\n",
    "from qecsim import paulitools as pt \n",
    "from qecsim.models.generic import DepolarizingErrorModel\n",
    "from qecsim.models.toric import ToricCode\n",
    "import galois\n",
    "from typing import List, Tuple\n",
    "import nbimporter\n",
    "import BP_OSD_Simulation_V2 as my_bposd"
   ]
  },
  {
   "cell_type": "code",
   "execution_count": 2,
   "metadata": {},
   "outputs": [],
   "source": [
    "dim = 6\n",
    "my_code = ToricCode(dim,dim)\n",
    "my_error_model = DepolarizingErrorModel()\n",
    "GF = galois.GF(2)\n",
    "num_qubits = 2 * dim ** 2\n",
    "error_probability = 0.08\n",
    "Z_stabs = (my_code.stabilizers[:dim ** 2])[:, 2 * dim ** 2:]\n",
    "X_stabs = (my_code.stabilizers[dim ** 2:])[:, :2 * dim ** 2]"
   ]
  },
  {
   "cell_type": "code",
   "execution_count": 3,
   "metadata": {},
   "outputs": [],
   "source": [
    "import numpy as np\n",
    "from ldpc import bposd_decoder\n",
    "\n",
    "bpd_X=bposd_decoder(\n",
    "    Z_stabs,#the parity check matrix\n",
    "    error_rate=error_probability,\n",
    "    channel_probs=[None], #assign error_rate to each qubit. This will override \"error_rate\" input variable\n",
    "    max_iter=num_qubits, #the maximum number of iterations for BP)\n",
    "    bp_method=\"ms\",\n",
    "    ms_scaling_factor=0, #min sum scaling factor. If set to zero the variable scaling factor method is used\n",
    "    osd_method=\"osd_cs\", #the OSD method. Choose from:  1) \"osd_e\", \"osd_cs\", \"osd0\"\n",
    "    osd_order=7 #the osd search depth\n",
    "    )\n",
    "\n",
    "bpd_Z=bposd_decoder(\n",
    "    X_stabs,#the parity check matrix\n",
    "    error_rate=error_probability,\n",
    "    channel_probs=[None], #assign error_rate to each qubit. This will override \"error_rate\" input variable\n",
    "    max_iter=num_qubits, #the maximum number of iterations for BP)\n",
    "    bp_method=\"ms\",\n",
    "    ms_scaling_factor=0, #min sum scaling factor. If set to zero the variable scaling factor method is used\n",
    "    osd_method=\"osd_cs\", #the OSD method. Choose from:  1) \"osd_e\", \"osd_cs\", \"osd0\"\n",
    "    osd_order=7 #the osd search depth\n",
    "    )"
   ]
  },
  {
   "cell_type": "code",
   "execution_count": 4,
   "metadata": {},
   "outputs": [
    {
     "ename": "NameError",
     "evalue": "name 'syndromeX' is not defined",
     "output_type": "error",
     "traceback": [
      "\u001b[0;31m---------------------------------------------------------------------------\u001b[0m",
      "\u001b[0;31mNameError\u001b[0m                                 Traceback (most recent call last)",
      "Cell \u001b[0;32mIn[4], line 11\u001b[0m\n\u001b[1;32m      9\u001b[0m Z_syndrome \u001b[39m=\u001b[39m np\u001b[39m.\u001b[39mmod(X_stabs \u001b[39m@\u001b[39m Z_error,\u001b[39m2\u001b[39m)\n\u001b[1;32m     10\u001b[0m X_syndrome \u001b[39m=\u001b[39m np\u001b[39m.\u001b[39mmod(Z_stabs \u001b[39m@\u001b[39m X_error, \u001b[39m2\u001b[39m)\n\u001b[0;32m---> 11\u001b[0m bpd_X\u001b[39m.\u001b[39mdecode(syndromeX)\n\u001b[1;32m     12\u001b[0m bpd_Z\u001b[39m.\u001b[39mdecode(syndromeZ)\n\u001b[1;32m     14\u001b[0m \u001b[39mprint\u001b[39m(\u001b[39m\"\u001b[39m\u001b[39mX Error\u001b[39m\u001b[39m\"\u001b[39m)\n",
      "\u001b[0;31mNameError\u001b[0m: name 'syndromeX' is not defined"
     ]
    }
   ],
   "source": [
    "rng = np.random.default_rng()\n",
    "# Error: random error based on error probability\n",
    "error = my_error_model.generate(my_code, error_probability, rng)\n",
    "while (sum(error) == 0):\n",
    "    error = my_error_model.generate(my_code, error_probability, rng)\n",
    "\n",
    "Z_error = error[2 * dim**2:]\n",
    "X_error = error[:2 * dim**2]\n",
    "Z_syndrome = np.mod(X_stabs @ Z_error,2)\n",
    "X_syndrome = np.mod(Z_stabs @ X_error, 2)\n",
    "bpd_X.decode(syndromeX)\n",
    "bpd_Z.decode(syndromeZ)\n",
    "\n",
    "print(\"X Error\")\n",
    "print(x_error)\n",
    "print(\"Z Error\")\n",
    "print(z_error)\n",
    "print(\"BP+OSD Decoding X\")\n",
    "print(bpd_X.osdw_decoding)\n",
    "print(\"BP+OSD Decoding Z\")\n",
    "print(bpd_Z.osdw_decoding)\n",
    "#Decoding is successful if the residual error commutes with the logical operators\n",
    "recovery_x = (bpd_X.osdw_decoding) %2\n",
    "recovery_z = (bpd_Z.osdw_decoding) %2\n",
    "residual_error_x = (recovery_x + x_error) %2\n",
    "residual_error_z = (recovery_z + z_error) %2\n",
    "\n",
    "print(\"Commutation with Stabs\")\n",
    "print(np.sum((surface_code.hz@residual_error_x) % 2))\n",
    "print(np.sum((surface_code.hx@residual_error_z) % 2))"
   ]
  },
  {
   "cell_type": "code",
   "execution_count": null,
   "metadata": {},
   "outputs": [],
   "source": []
  }
 ],
 "metadata": {
  "kernelspec": {
   "display_name": "qcenv",
   "language": "python",
   "name": "python3"
  },
  "language_info": {
   "codemirror_mode": {
    "name": "ipython",
    "version": 3
   },
   "file_extension": ".py",
   "mimetype": "text/x-python",
   "name": "python",
   "nbconvert_exporter": "python",
   "pygments_lexer": "ipython3",
   "version": "3.9.16"
  },
  "orig_nbformat": 4
 },
 "nbformat": 4,
 "nbformat_minor": 2
}
