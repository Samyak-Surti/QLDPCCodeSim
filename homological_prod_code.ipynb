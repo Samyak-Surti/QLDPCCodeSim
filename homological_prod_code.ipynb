{
 "cells": [
  {
   "cell_type": "markdown",
   "metadata": {},
   "source": [
    "### Homological Product Code Construction\n",
    "* Can view quantum CSS codes as chain complexes\n",
    "$$C_2 \\rightarrow C_1 \\rightarrow C_0$$\n",
    "* Can take tensor products of chain complexes (CSS codes) as per the construction given by Hastings et. al.\n",
    "* There are two 'theories' when it comes to defining CSS codes in terms of homology theory\n",
    "    1. 'Single sector' theory - Use a single vector space to define chain complex (Will try this first)\n",
    "    2. 'Multiple sector' theory - Use 3 vector spaces to define chain complex\n",
    "* $\\text{\\underline{1st Test: Utilizing Self-Orthogonal Codes}}$\n",
    "    * Use 2 $[[7,1,3]]$ codes"
   ]
  },
  {
   "cell_type": "code",
   "execution_count": 11,
   "metadata": {},
   "outputs": [],
   "source": [
    "from sage.all import *\n",
    "import numpy as np"
   ]
  },
  {
   "cell_type": "code",
   "execution_count": 12,
   "metadata": {},
   "outputs": [],
   "source": [
    "def construct_hom_classical_code(num_bits: int, pc_mat: np.array) -> ChainComplex:\n",
    "    \"\"\" \n",
    "    Construct chain complex for classical code from parity-check matrix\n",
    "\n",
    "    Parameters:\n",
    "    -----------\n",
    "    num_bits - Number of bits of code\n",
    "    pc_mat - parity-check matrix for code\n",
    "\n",
    "    Returns:\n",
    "    --------\n",
    "    Chain complex representing code\n",
    "    \"\"\"\n",
    "    # Define vector spaces for chain complex\n",
    "    k_1 = len(pc_mat)\n",
    "    C_0 = VectorSpace(GF(2), num_bits)\n",
    "    C_1 = VectorSpace(GF(2), k_1)\n",
    "\n",
    "    # Define boundary operators\n",
    "    d_0 = matrix(pc_mat.tolist())\n",
    "\n",
    "    # Define chain complex\n",
    "    chain_complex_data = [C_0, d_0, C_1]\n",
    "    #chain_complex_data = {1:d_1}\n",
    "    code = ChainComplex(data=chain_complex_data, base_ring=GF(2), degree_of_differential=1)\n",
    "    return code\n",
    "\n",
    "def construct_hom_CSS_code(num_qubits: int, pc_mat_X: np.array, pc_mat_Z: np.array) -> ChainComplex:\n",
    "    \"\"\" \n",
    "    Construct chain complex for CSS code from parity-check matrices\n",
    "\n",
    "    Parameters:\n",
    "    -----------\n",
    "    num_qubits - Number of qubits of code\n",
    "    pc_mat_X - X parity-check matrix\n",
    "    pc_mat_Z - Z parity-check matrix\n",
    "\n",
    "    Returns:\n",
    "    --------\n",
    "    Chain complex representing CSS code\n",
    "    \"\"\"\n",
    "\n",
    "    # Define vector spaces for chain complex\n",
    "    k_1 = len(pc_mat_Z)\n",
    "    k_2 = len(pc_mat_X)\n",
    "    C_0 = VectorSpace(GF(2), k_1)\n",
    "    C_1 = VectorSpace(GF(2), num_qubits)\n",
    "    C_2 = VectorSpace(GF(2), k_2)\n",
    "\n",
    "    # Define boundary operators\n",
    "    d_0 = matrix((pc_mat_Z.T).tolist())\n",
    "    d_1 = matrix(pc_mat_X.tolist())\n",
    "\n",
    "    # Define chain complex\n",
    "    chain_complex_data = [C_0, d_0, C_1, d_1, C_2]\n",
    "    #chain_complex_data = {1:d_1, 2:d_2}\n",
    "    code = ChainComplex(data=chain_complex_data, base_ring=GF(2), degree_of_differential=1)\n",
    "    return code"
   ]
  },
  {
   "cell_type": "code",
   "execution_count": 14,
   "metadata": {},
   "outputs": [
    {
     "data": {
      "text/plain": [
       "{0: Vector space of dimension 0 over Finite Field of size 2,\n",
       " 1: Vector space of dimension 0 over Finite Field of size 2,\n",
       " 2: Vector space of dimension 1 over Finite Field of size 2,\n",
       " 3: Vector space of dimension 0 over Finite Field of size 2,\n",
       " 4: Vector space of dimension 0 over Finite Field of size 2}"
      ]
     },
     "execution_count": 14,
     "metadata": {},
     "output_type": "execute_result"
    }
   ],
   "source": [
    "# Let us begin by defining our chain complex (single sector theory) for Steane Code\n",
    "x_pc_mat = np.array([[0,0,0,1,1,1,1], [0,1,1,0,0,1,1,], [1,0,1,0,1,0,1]])\n",
    "z_pc_mat = np.array([[0,0,0,1,1,1,1], [0,1,1,0,0,1,1,], [1,0,1,0,1,0,1]])\n",
    "\n",
    "n = 7 # Number of physical qubits in CSS code\n",
    "\n",
    "steane_code_1 = construct_hom_CSS_code(n, x_pc_mat, z_pc_mat)\n",
    "steane_code_2 = construct_hom_CSS_code(n, x_pc_mat, z_pc_mat)\n",
    "hom_prod_code = construct_hom_prod_code(steane_code_1, steane_code_2)\n",
    "ascii_art(hom_prod_code)\n"
   ]
  },
  {
   "cell_type": "code",
   "execution_count": null,
   "metadata": {},
   "outputs": [],
   "source": []
  }
 ],
 "metadata": {
  "kernelspec": {
   "display_name": "Python 3.9.7 ('qc_env')",
   "language": "python",
   "name": "python3"
  },
  "language_info": {
   "codemirror_mode": {
    "name": "ipython",
    "version": 3
   },
   "file_extension": ".py",
   "mimetype": "text/x-python",
   "name": "python",
   "nbconvert_exporter": "python",
   "pygments_lexer": "ipython3",
   "version": "3.9.7"
  },
  "orig_nbformat": 4,
  "vscode": {
   "interpreter": {
    "hash": "5a2db16169323f9c61c6ed4d885397ad0494f2e790734ab97aaeab1bbd202ff7"
   }
  }
 },
 "nbformat": 4,
 "nbformat_minor": 2
}
