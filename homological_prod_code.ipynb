{
 "cells": [
  {
   "cell_type": "markdown",
   "metadata": {},
   "source": [
    "### Homological Product Code Construction\n",
    "* Can view quantum CSS codes as chain complexes\n",
    "$$C_2 \\rightarrow C_1 \\rightarrow C_0$$\n",
    "* Can take tensor products of chain complexes (CSS codes) as per the construction given by Hastings et. al.\n",
    "* There are two 'theories' when it comes to defining CSS codes in terms of homology theory\n",
    "    1. 'Single sector' theory - Use a single vector space to define chain complex (Will try this first)\n",
    "        * Parity-check matrix for X-checks is the boundary operator $\\partial$\n",
    "        * Parity-cehck matrix \n",
    "    2. 'Multiple sector' theory - Use 3 vector spaces to define chain complex\n",
    "* $\\text{\\underline{1st Test: Utilizing Self-Orthogonal Codes}}$\n",
    "    * Use 2 $[[7,1,3]]$ codes"
   ]
  },
  {
   "cell_type": "code",
   "execution_count": 2,
   "metadata": {},
   "outputs": [],
   "source": [
    "from sage.all import *\n",
    "import numpy as np"
   ]
  },
  {
   "cell_type": "code",
   "execution_count": 3,
   "metadata": {},
   "outputs": [],
   "source": [
    "def parity_check_to_complex(pc_mat_X: np.array, pc_mat_Z: np.array) -> sage.homology.chain_complex.ChainComplex:\n",
    "    \"\"\" \n",
    "    Take X and Z parity-check matrices and produce a boundary operator for CSS code\n",
    "\n",
    "    Parameters:\n",
    "    -----------\n",
    "    pc_mat_X - X parity-check matrix\n",
    "    pc_mat_Z - Z parity-check matrix\n",
    "\n",
    "    Returns:\n",
    "    --------\n",
    "    Chain complex (C,d)\n",
    "    \"\"\"\n",
    "    num_qubits = len(pc_mat_X[0])\n",
    "    vec_space = ZZ^(num_qubits)\n",
    "    x_pc_dict = {}\n",
    "    z_pc_dict = {}\n",
    "    for x_check in pc_mat_x:\n",
    "        x_pc_dict[x_check] = vector(ZZ, x_check)\n",
    "\n",
    "    for z_check in pc_mat_z:\n",
    "        z_pc_dict[z_check] = vector(ZZ, z_check)\n",
    "        \n",
    "    C_X = vec_space.span([x_pc_dict.values()])\n",
    "    C_Z = vec_space.span([z_pc_dict.values()])"
   ]
  },
  {
   "cell_type": "code",
   "execution_count": null,
   "metadata": {},
   "outputs": [],
   "source": [
    "# Let us begin by defining our chain complex (single sector theory) for Steane Code\n",
    "x_pc_mat = np.array([[0,0,0,1,1,1,1], [0,1,1,0,0,1,1,], [1,0,1,0,1,0,1]])\n",
    "z_pc_mat = np.array([[0,0,0,1,1,1,1], [0,1,1,0,0,1,1,], [1,0,1,0,1,0,1]])\n",
    "\n",
    "n = 7 # Number of physical qubits in CSS code\n",
    "\n",
    "# Define vector space\n",
    "C = VectorSpace(GF(2), n)\n",
    "\n",
    "\n",
    "# data for chain complex\n",
    "\n",
    "# base_ring (F_2)\n",
    "\n"
   ]
  }
 ],
 "metadata": {
  "kernelspec": {
   "display_name": "SageMath 9.6",
   "language": "sage",
   "name": "SageMath-9.6"
  },
  "language_info": {
   "codemirror_mode": {
    "name": "ipython",
    "version": 3
   },
   "file_extension": ".py",
   "mimetype": "text/x-python",
   "name": "python",
   "nbconvert_exporter": "python",
   "pygments_lexer": "ipython3",
   "version": "3.10.3"
  },
  "orig_nbformat": 4
 },
 "nbformat": 4,
 "nbformat_minor": 2
}
