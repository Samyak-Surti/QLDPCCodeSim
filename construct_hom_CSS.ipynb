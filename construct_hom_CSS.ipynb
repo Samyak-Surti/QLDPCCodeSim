{
 "cells": [
  {
   "cell_type": "code",
   "execution_count": 1,
   "metadata": {},
   "outputs": [],
   "source": [
    "from sage.all import *\n",
    "import numpy as np\n",
    "import galois"
   ]
  },
  {
   "cell_type": "code",
   "execution_count": 3,
   "metadata": {},
   "outputs": [],
   "source": [
    "def construct_hom_classical_code(num_bits: int, pc_mat: np.array) -> ChainComplex:\n",
    "    \"\"\" \n",
    "    Construct chain complex for classical code from parity-check matrix\n",
    "\n",
    "    Parameters:\n",
    "    -----------\n",
    "    num_bits - Number of bits of code\n",
    "    pc_mat - parity-check matrix for code\n",
    "\n",
    "    Returns:\n",
    "    --------\n",
    "    Chain complex representing code\n",
    "    \"\"\"\n",
    "    # Define vector spaces for chain complex\n",
    "    k_1 = len(pc_mat)\n",
    "    C_0 = VectorSpace(GF(2), num_bits)\n",
    "    C_1 = VectorSpace(GF(2), k_1)\n",
    "\n",
    "    # Define boundary operators\n",
    "    d_0 = matrix(pc_mat.tolist())\n",
    "\n",
    "    # Define chain complex\n",
    "    chain_complex_data = [C_0, d_0, C_1]\n",
    "    #chain_complex_data = {1:d_1}\n",
    "    code = ChainComplex(data=chain_complex_data, base_ring=GF(2), degree_of_differential=1)\n",
    "    return code\n",
    "\n",
    "def construct_hom_CSS_code(num_qubits: int, pc_mat_X: np.array, pc_mat_Z: np.array) -> ChainComplex:\n",
    "    \"\"\" \n",
    "    Construct chain complex for CSS code from parity-check matrices\n",
    "\n",
    "    Parameters:\n",
    "    -----------\n",
    "    num_qubits - Number of qubits of code\n",
    "    pc_mat_X - X parity-check matrix\n",
    "    pc_mat_Z - Z parity-check matrix\n",
    "\n",
    "    Returns:\n",
    "    --------\n",
    "    Chain complex representing CSS code\n",
    "    \"\"\"\n",
    "\n",
    "    # Define vector spaces for chain complex\n",
    "    k_1 = len(pc_mat_Z)\n",
    "    k_2 = len(pc_mat_X)\n",
    "    C_0 = VectorSpace(GF(2), k_1)\n",
    "    C_1 = VectorSpace(GF(2), num_qubits)\n",
    "    C_2 = VectorSpace(GF(2), k_2)\n",
    "\n",
    "    # Define boundary operators\n",
    "    d_0 = matrix((pc_mat_Z.T).tolist())\n",
    "    d_1 = matrix(pc_mat_X.tolist())\n",
    "\n",
    "    # Define chain complex\n",
    "    chain_complex_data = [C_0, d_0, C_1, d_1, C_2]\n",
    "    #chain_complex_data = {1:d_1, 2:d_2}\n",
    "    code = ChainComplex(data=chain_complex_data, base_ring=GF(2), degree_of_differential=1)\n",
    "    return code"
   ]
  },
  {
   "cell_type": "code",
   "execution_count": 4,
   "metadata": {},
   "outputs": [
    {
     "data": {
      "text/plain": [
       "            [1 1 0]      \n",
       "            [0 1 1]      \n",
       "            [1 0 1]      \n",
       " 0 <-- C_1 <-------- C_0 <-- 0 "
      ]
     },
     "execution_count": 4,
     "metadata": {},
     "output_type": "execute_result"
    }
   ],
   "source": [
    "# Let us construct the classical repetition code as a chain complex\n",
    "rep_code_mat = np.array([\n",
    "    [1,1,0],\n",
    "    [0,1,1],\n",
    "    [1,0,1]\n",
    "])\n",
    "\n",
    "rep_code = construct_hom_classical_code(3, rep_code_mat)\n",
    "ascii_art(rep_code)"
   ]
  },
  {
   "cell_type": "code",
   "execution_count": 5,
   "metadata": {},
   "outputs": [
    {
     "data": {
      "text/plain": [
       "                                  [0 0 1]      \n",
       "                                  [0 1 0]      \n",
       "                                  [0 1 1]      \n",
       "                                  [1 0 0]      \n",
       "            [0 0 0 1 1 1 1]       [1 0 1]      \n",
       "            [0 1 1 0 0 1 1]       [1 1 0]      \n",
       "            [1 0 1 0 1 0 1]       [1 1 1]      \n",
       " 0 <-- C_2 <---------------- C_1 <-------- C_0 <-- 0 "
      ]
     },
     "execution_count": 5,
     "metadata": {},
     "output_type": "execute_result"
    }
   ],
   "source": [
    "# Let us construct the Steane Code\n",
    "x_pc_mat = np.array([[0,0,0,1,1,1,1], [0,1,1,0,0,1,1], [1,0,1,0,1,0,1]])\n",
    "z_pc_mat = np.array([[0,0,0,1,1,1,1], [0,1,1,0,0,1,1], [1,0,1,0,1,0,1]])\n",
    "\n",
    "steane_code = construct_hom_CSS_code(7, x_pc_mat, z_pc_mat)\n",
    "ascii_art(steane_code)"
   ]
  },
  {
   "cell_type": "code",
   "execution_count": 7,
   "metadata": {},
   "outputs": [
    {
     "data": {
      "text/plain": [
       "                                                        [1 0 1 0 0 0 0 0 0] \n",
       "                                                        [0 1 1 0 0 0 0 0 0] \n",
       "                                                        [1 0 1 0 0 0 0 0 0] \n",
       "                                                        [0 0 0 1 0 1 0 0 0] \n",
       "                                                        [0 0 0 0 1 1 0 0 0] \n",
       "                                                        [0 0 0 1 0 1 0 0 0] \n",
       "                                                        [0 0 0 0 0 0 1 0 1] \n",
       "                                                        [0 0 0 0 0 0 0 1 1] \n",
       "                                                        [0 0 0 0 0 0 1 0 1] \n",
       "            [1 0 0 0 0 0 1 0 0 1 0 1 0 0 0 0 0 0]       [1 0 0 0 0 0 1 0 0] \n",
       "            [0 1 0 0 0 0 0 1 0 0 1 1 0 0 0 0 0 0]       [0 1 0 0 0 0 0 1 0] \n",
       "            [0 0 1 0 0 0 0 0 1 1 0 1 0 0 0 0 0 0]       [0 0 1 0 0 0 0 0 1] \n",
       "            [0 0 0 1 0 0 1 0 0 0 0 0 1 0 1 0 0 0]       [0 0 0 1 0 0 1 0 0] \n",
       "            [0 0 0 0 1 0 0 1 0 0 0 0 0 1 1 0 0 0]       [0 0 0 0 1 0 0 1 0] \n",
       "            [0 0 0 0 0 1 0 0 1 0 0 0 1 0 1 0 0 0]       [0 0 0 0 0 1 0 0 1] \n",
       "            [1 0 0 0 0 0 1 0 0 0 0 0 0 0 0 1 0 1]       [1 0 0 0 0 0 1 0 0] \n",
       "            [0 1 0 0 0 0 0 1 0 0 0 0 0 0 0 0 1 1]       [0 1 0 0 0 0 0 1 0] \n",
       "            [0 0 1 0 0 0 0 0 1 0 0 0 0 0 0 1 0 1]       [0 0 1 0 0 0 0 0 1] \n",
       " 0 <-- C_2 <-------------------------------------- C_1 <--------------------\n",
       "\n",
       "     \n",
       "     \n",
       "     \n",
       "     \n",
       "     \n",
       "     \n",
       "     \n",
       "     \n",
       "     \n",
       "     \n",
       "     \n",
       "     \n",
       "     \n",
       "     \n",
       "     \n",
       "     \n",
       "     \n",
       "     \n",
       " C_0 <-- 0 "
      ]
     },
     "execution_count": 7,
     "metadata": {},
     "output_type": "execute_result"
    }
   ],
   "source": [
    "# Let us try to construct the Toric code via a product of chain complexes of classical codes\n",
    "mat = np.array([\n",
    "    [1,0,1],\n",
    "    [0,1,1],\n",
    "    [1,0,1]\n",
    "])\n",
    "\n",
    "rep_code_1 = construct_hom_classical_code(3, mat)\n",
    "rep_code_2 = construct_hom_classical_code(3, mat)\n",
    "toric_code_complex = rep_code_1.tensor(rep_code_2)\n",
    "ascii_art(toric_code_complex)"
   ]
  },
  {
   "cell_type": "code",
   "execution_count": 50,
   "metadata": {},
   "outputs": [
    {
     "name": "stdout",
     "output_type": "stream",
     "text": [
      "The dimension of the toric code is: 2\n"
     ]
    }
   ],
   "source": [
    "# Relevant Boundary operators\n",
    "d_0 = toric_code_complex.differential(0)\n",
    "d_0_T = d_0.transpose()\n",
    "d_1 = toric_code_complex.differential(1)\n",
    "d_1_T = d_1.transpose()\n",
    "\n",
    "# Kernel and Image of boundary operators to compute logial operators\n",
    "ker_d_1 = d_1.right_kernel()\n",
    "im_d_1_T = d_1_T.transpose().image()\n",
    "im_d_0 = d_0.transpose().image()\n",
    "ker_d_0_T = d_0.right_kernel()\n",
    "\n",
    "# Dimension of code\n",
    "code_dim = (ker_d_1/im_d_0).dimension()\n",
    "\n",
    "# Logical Z operators\n",
    "ker_d_1_vecs = [v for v in ker_d_1]\n",
    "im_d_0_vecs = [v for v in im_d_0]\n",
    "log_Z_ops = [v for v in ker_d_1_vecs if vec not in im_d_0_vecs]\n",
    "\n",
    "# Logical X operators\n",
    "ker_d_0_T_vecs = [v for v in ker_d_0_T]\n",
    "im_d_1_T_vecs = [v for v in im_d_1_T]\n",
    "log_X_ops = [v for v in ker_d_0_T_vecs if vec not in im_d_1_T_vecs]\n",
    "\n",
    "print(\"The dimension of the toric code is: \" + str(code_dim))\n"
   ]
  },
  {
   "cell_type": "code",
   "execution_count": null,
   "metadata": {},
   "outputs": [],
   "source": []
  }
 ],
 "metadata": {
  "kernelspec": {
   "display_name": "Python 3.9.7 ('qc_env')",
   "language": "python",
   "name": "python3"
  },
  "language_info": {
   "codemirror_mode": {
    "name": "ipython",
    "version": 3
   },
   "file_extension": ".py",
   "mimetype": "text/x-python",
   "name": "python",
   "nbconvert_exporter": "python",
   "pygments_lexer": "ipython3",
   "version": "3.9.7"
  },
  "orig_nbformat": 4,
  "vscode": {
   "interpreter": {
    "hash": "5a2db16169323f9c61c6ed4d885397ad0494f2e790734ab97aaeab1bbd202ff7"
   }
  }
 },
 "nbformat": 4,
 "nbformat_minor": 2
}
