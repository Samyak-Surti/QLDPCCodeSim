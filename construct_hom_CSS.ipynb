{
 "cells": [
  {
   "cell_type": "code",
   "execution_count": 2,
   "metadata": {},
   "outputs": [],
   "source": [
    "from sage.all import *\n",
    "import numpy as np\n",
    "import galois"
   ]
  },
  {
   "cell_type": "code",
   "execution_count": 29,
   "metadata": {},
   "outputs": [],
   "source": [
    "def construct_hom_classical_code(num_bits: int, pc_mat: np.array) -> ChainComplex:\n",
    "    \"\"\" \n",
    "    Construct chain complex for classical code from parity-check matrix\n",
    "\n",
    "    Parameters:\n",
    "    -----------\n",
    "    num_bits - Number of bits of code\n",
    "    pc_mat - parity-check matrix for code\n",
    "\n",
    "    Returns:\n",
    "    --------\n",
    "    Chain complex representing code\n",
    "    \"\"\"\n",
    "    # Define vector spaces for chain complex\n",
    "    k_1 = len(pc_mat)\n",
    "    C_1 = VectorSpace(GF(2), num_bits)\n",
    "    C_0 = VectorSpace(GF(2), k_1)\n",
    "\n",
    "    # Define boundary operators\n",
    "    d_1 = matrix(pc_mat.tolist())\n",
    "\n",
    "    # Define chain complex\n",
    "    #chain_complex_data = [C_1, d_1, C_0]\n",
    "    chain_complex_data = {1:d_1}\n",
    "    code = ChainComplex(chain_complex_data, GF(2), degree_of_differential=-1)\n",
    "    return code\n",
    "\n",
    "def construct_hom_CSS_code(num_qubits: int, pc_mat_X: np.array, pc_mat_Z: np.array) -> ChainComplex:\n",
    "    \"\"\" \n",
    "    Construct chain complex for CSS code from parity-check matrices\n",
    "\n",
    "    Parameters:\n",
    "    -----------\n",
    "    num_qubits - Number of qubits of code\n",
    "    pc_mat_X - X parity-check matrix\n",
    "    pc_mat_Z - Z parity-check matrix\n",
    "\n",
    "    Returns:\n",
    "    --------\n",
    "    Chain complex representing CSS code\n",
    "    \"\"\"\n",
    "\n",
    "    # Define vector spaces for chain complex\n",
    "    k_1 = len(pc_mat_Z)\n",
    "    k_2 = len(pc_mat_X)\n",
    "    C_2 = VectorSpace(GF(2), k_1)\n",
    "    C_1 = VectorSpace(GF(2), num_qubits)\n",
    "    C_0 = VectorSpace(GF(2), k_2)\n",
    "\n",
    "    # Define boundary operators\n",
    "    d_2 = matrix((pc_mat_Z.T).tolist())\n",
    "    d_1 = matrix(pc_mat_X.tolist())\n",
    "\n",
    "    # Define chain complex\n",
    "    #chain_complex_data = [C_2, d_2, C_1, d_1, C_0]\n",
    "    chain_complex_data = {1:d_1, 2:d_2}\n",
    "    code = ChainComplex(chain_complex_data, GF(2), degree_of_differential=-1)\n",
    "    return code"
   ]
  },
  {
   "cell_type": "code",
   "execution_count": 30,
   "metadata": {},
   "outputs": [
    {
     "data": {
      "text/plain": [
       "                                  [0 0 1]      \n",
       "                                  [0 1 0]      \n",
       "                                  [0 1 1]      \n",
       "                                  [1 0 0]      \n",
       "            [0 0 0 1 1 1 1]       [1 0 1]      \n",
       "            [0 1 1 0 0 1 1]       [1 1 0]      \n",
       "            [1 0 1 0 1 0 1]       [1 1 1]      \n",
       " 0 <-- C_0 <---------------- C_1 <-------- C_2 <-- 0 "
      ]
     },
     "execution_count": 30,
     "metadata": {},
     "output_type": "execute_result"
    }
   ],
   "source": [
    "# Let us construct the Steane Code\n",
    "x_pc_mat = np.array([[0,0,0,1,1,1,1], [0,1,1,0,0,1,1], [1,0,1,0,1,0,1]])\n",
    "z_pc_mat = np.array([[0,0,0,1,1,1,1], [0,1,1,0,0,1,1], [1,0,1,0,1,0,1]])\n",
    "\n",
    "steane_code = construct_hom_CSS_code(7, x_pc_mat, z_pc_mat)\n",
    "ascii_art(steane_code)"
   ]
  },
  {
   "cell_type": "code",
   "execution_count": 34,
   "metadata": {},
   "outputs": [
    {
     "ename": "TypeError",
     "evalue": "unsupported operand type(s) for *: 'float' and 'sage.rings.finite_rings.integer_mod.IntegerMod_int'",
     "output_type": "error",
     "traceback": [
      "\u001b[0;31m---------------------------------------------------------------------------\u001b[0m",
      "\u001b[0;31mTypeError\u001b[0m                                 Traceback (most recent call last)",
      "\u001b[0;32m/var/folders/5d/012l939x26zc05mjshslzh2h0000gn/T/ipykernel_29038/2757218319.py\u001b[0m in \u001b[0;36m<module>\u001b[0;34m\u001b[0m\n\u001b[1;32m     10\u001b[0m \u001b[0mrep_code_2\u001b[0m \u001b[0;34m=\u001b[0m \u001b[0mconstruct_hom_classical_code\u001b[0m\u001b[0;34m(\u001b[0m\u001b[0mInteger\u001b[0m\u001b[0;34m(\u001b[0m\u001b[0;36m3\u001b[0m\u001b[0;34m)\u001b[0m\u001b[0;34m,\u001b[0m \u001b[0mmat\u001b[0m\u001b[0;34m)\u001b[0m\u001b[0;34m\u001b[0m\u001b[0;34m\u001b[0m\u001b[0m\n\u001b[1;32m     11\u001b[0m \u001b[0;31m#print(ascii_art(rep_code_2))\u001b[0m\u001b[0;34m\u001b[0m\u001b[0;34m\u001b[0m\u001b[0m\n\u001b[0;32m---> 12\u001b[0;31m \u001b[0mtoric_code\u001b[0m \u001b[0;34m=\u001b[0m \u001b[0mrep_code_2\u001b[0m\u001b[0;34m.\u001b[0m\u001b[0mtensor\u001b[0m\u001b[0;34m(\u001b[0m\u001b[0mrep_code_1\u001b[0m\u001b[0;34m)\u001b[0m\u001b[0;34m\u001b[0m\u001b[0;34m\u001b[0m\u001b[0m\n\u001b[0m\u001b[1;32m     13\u001b[0m \u001b[0;31m#orthogonality_check = toric_code.differential(1) * toric_code.differential(0)\u001b[0m\u001b[0;34m\u001b[0m\u001b[0;34m\u001b[0m\u001b[0m\n",
      "\u001b[0;32m/private/var/tmp/sage-9.6-current/local/var/lib/sage/venv-python3.10.3/lib/python3.10/site-packages/sage/homology/chain_complex.py\u001b[0m in \u001b[0;36mtensor\u001b[0;34m(self, *factors, **kwds)\u001b[0m\n\u001b[1;32m   2199\u001b[0m                             \u001b[0mvec\u001b[0m \u001b[0;34m=\u001b[0m \u001b[0;34m[\u001b[0m\u001b[0mzero\u001b[0m\u001b[0;34m]\u001b[0m\u001b[0;34m*\u001b[0m\u001b[0;34m(\u001b[0m\u001b[0mr\u001b[0m\u001b[0;34m*\u001b[0m\u001b[0msp\u001b[0m\u001b[0;34m)\u001b[0m\u001b[0;34m\u001b[0m\u001b[0;34m\u001b[0m\u001b[0m\n\u001b[1;32m   2200\u001b[0m                             \u001b[0;32mfor\u001b[0m \u001b[0mk\u001b[0m\u001b[0;34m,\u001b[0m\u001b[0mval\u001b[0m \u001b[0;32min\u001b[0m \u001b[0menumerate\u001b[0m\u001b[0;34m(\u001b[0m\u001b[0mdD\u001b[0m\u001b[0;34m[\u001b[0m\u001b[0mb\u001b[0m\u001b[0;34m]\u001b[0m\u001b[0;34m.\u001b[0m\u001b[0mcolumn\u001b[0m\u001b[0;34m(\u001b[0m\u001b[0mj\u001b[0m\u001b[0;34m)\u001b[0m\u001b[0;34m)\u001b[0m\u001b[0;34m:\u001b[0m\u001b[0;34m\u001b[0m\u001b[0;34m\u001b[0m\u001b[0m\n\u001b[0;32m-> 2201\u001b[0;31m                                 \u001b[0mvec\u001b[0m\u001b[0;34m[\u001b[0m\u001b[0msp\u001b[0m\u001b[0;34m*\u001b[0m\u001b[0mi\u001b[0m\u001b[0;34m+\u001b[0m\u001b[0mk\u001b[0m\u001b[0;34m]\u001b[0m \u001b[0;34m+=\u001b[0m \u001b[0mscalar\u001b[0m\u001b[0;34m(\u001b[0m\u001b[0ma\u001b[0m\u001b[0;34m)\u001b[0m \u001b[0;34m*\u001b[0m \u001b[0mval\u001b[0m\u001b[0;34m\u001b[0m\u001b[0;34m\u001b[0m\u001b[0m\n\u001b[0m\u001b[1;32m   2202\u001b[0m                             \u001b[0mcur\u001b[0m\u001b[0;34m[\u001b[0m\u001b[0;34m(\u001b[0m\u001b[0ma\u001b[0m\u001b[0;34m,\u001b[0m\u001b[0mb\u001b[0m\u001b[0;34m+\u001b[0m\u001b[0mdeg_diff\u001b[0m\u001b[0;34m)\u001b[0m\u001b[0;34m]\u001b[0m\u001b[0;34m.\u001b[0m\u001b[0mappend\u001b[0m\u001b[0;34m(\u001b[0m\u001b[0mvec\u001b[0m\u001b[0;34m)\u001b[0m\u001b[0;34m\u001b[0m\u001b[0;34m\u001b[0m\u001b[0m\n\u001b[1;32m   2203\u001b[0m \u001b[0;34m\u001b[0m\u001b[0m\n",
      "\u001b[0;31mTypeError\u001b[0m: unsupported operand type(s) for *: 'float' and 'sage.rings.finite_rings.integer_mod.IntegerMod_int'"
     ]
    }
   ],
   "source": [
    "# Let us try to construct the Toric code via a product of chain complexes of classical codes\n",
    "mat = np.array([\n",
    "    [1,0,1],\n",
    "    [0,1,1],\n",
    "    [1,0,1]\n",
    "], dtype=int)\n",
    "\n",
    "rep_code_1 = construct_hom_classical_code(3, mat)\n",
    "#print(ascii_art(rep_code_1))\n",
    "rep_code_2 = construct_hom_classical_code(3, mat)\n",
    "#print(ascii_art(rep_code_2))\n",
    "toric_code = rep_code_2.tensor(rep_code_1)\n",
    "#orthogonality_check = toric_code.differential(1) * toric_code.differential(0)\n"
   ]
  }
 ],
 "metadata": {
  "kernelspec": {
   "display_name": "SageMath 9.6",
   "language": "sage",
   "name": "SageMath-9.6"
  },
  "language_info": {
   "codemirror_mode": {
    "name": "ipython",
    "version": 3
   },
   "file_extension": ".py",
   "mimetype": "text/x-python",
   "name": "python",
   "nbconvert_exporter": "python",
   "pygments_lexer": "ipython3",
   "version": "3.10.3"
  },
  "orig_nbformat": 4,
  "vscode": {
   "interpreter": {
    "hash": "5a2db16169323f9c61c6ed4d885397ad0494f2e790734ab97aaeab1bbd202ff7"
   }
  }
 },
 "nbformat": 4,
 "nbformat_minor": 2
}
