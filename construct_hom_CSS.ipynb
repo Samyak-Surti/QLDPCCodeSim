{
 "cells": [
  {
   "cell_type": "code",
   "execution_count": 2,
   "metadata": {},
   "outputs": [],
   "source": [
    "from sage.all import *\n",
    "import numpy as np\n",
    "import galois"
   ]
  },
  {
   "cell_type": "code",
   "execution_count": 3,
   "metadata": {},
   "outputs": [],
   "source": [
    "def construct_hom_classical_code(num_bits: int, pc_mat: np.array) -> ChainComplex:\n",
    "    \"\"\" \n",
    "    Construct chain complex for classical code from parity-check matrix\n",
    "\n",
    "    Parameters:\n",
    "    -----------\n",
    "    num_bits - Number of bits of code\n",
    "    pc_mat - parity-check matrix for code\n",
    "\n",
    "    Returns:\n",
    "    --------\n",
    "    Chain complex representing code\n",
    "    \"\"\"\n",
    "    # Define vector spaces for chain complex\n",
    "    k_1 = len(pc_mat)\n",
    "    C_1 = VectorSpace(GF(2), num_bits)\n",
    "    C_0 = VectorSpace(GF(2), k_1)\n",
    "\n",
    "    # Define boundary operators\n",
    "    d_1 = matrix(pc_mat.tolist())\n",
    "\n",
    "    # Define chain complex\n",
    "    chain_complex_data = [C_1, d_1, C_0]\n",
    "    code = ChainComplex(chain_complex_data, GF(2))\n",
    "    return code\n",
    "\n",
    "def construct_hom_CSS_code(num_qubits: int, pc_mat_X: np.array, pc_mat_Z: np.array) -> ChainComplex:\n",
    "    \"\"\" \n",
    "    Construct chain complex for CSS code from parity-check matrices\n",
    "\n",
    "    Parameters:\n",
    "    -----------\n",
    "    num_qubits - Number of qubits of code\n",
    "    pc_mat_X - X parity-check matrix\n",
    "    pc_mat_Z - Z parity-check matrix\n",
    "\n",
    "    Returns:\n",
    "    --------\n",
    "    Chain complex representing CSS code\n",
    "    \"\"\"\n",
    "\n",
    "    # Define vector spaces for chain complex\n",
    "    k_1 = len(pc_mat_Z)\n",
    "    k_2 = len(pc_mat_X)\n",
    "    C_2 = VectorSpace(GF(2), k_1)\n",
    "    C_1 = VectorSpace(GF(2), num_qubits)\n",
    "    C_0 = VectorSpace(GF(2), k_2)\n",
    "\n",
    "    # Define boundary operators\n",
    "    d_2 = matrix((pc_mat_Z.T).tolist())\n",
    "    d_1 = matrix(pc_mat_X.tolist())\n",
    "\n",
    "    # Define chain complex\n",
    "    chain_complex_data = [C_2, d_2, C_1, d_1, C_0]\n",
    "    code = ChainComplex(chain_complex_data, GF(2))\n",
    "    return code"
   ]
  },
  {
   "cell_type": "code",
   "execution_count": 20,
   "metadata": {},
   "outputs": [
    {
     "data": {
      "text/plain": [
       "                                  [0 0 1]      \n",
       "                                  [0 1 0]      \n",
       "                                  [0 1 1]      \n",
       "                                  [1 0 0]      \n",
       "            [0 0 0 1 1 1 1]       [1 0 1]      \n",
       "            [0 1 1 0 0 1 1]       [1 1 0]      \n",
       "            [1 0 1 0 1 0 1]       [1 1 1]      \n",
       " 0 <-- C_2 <---------------- C_1 <-------- C_0 <-- 0 "
      ]
     },
     "execution_count": 20,
     "metadata": {},
     "output_type": "execute_result"
    }
   ],
   "source": [
    "# Let us construct the Steane Code\n",
    "x_pc_mat = np.array([[0,0,0,1,1,1,1], [0,1,1,0,0,1,1,], [1,0,1,0,1,0,1]])\n",
    "z_pc_mat = np.array([[0,0,0,1,1,1,1], [0,1,1,0,0,1,1,], [1,0,1,0,1,0,1]])\n",
    "\n",
    "steane_code = construct_hom_CSS_code(7, x_pc_mat, z_pc_mat)\n",
    "ascii_art(steane_code)"
   ]
  },
  {
   "cell_type": "code",
   "execution_count": 18,
   "metadata": {},
   "outputs": [
    {
     "data": {
      "text/plain": [
       "{0: Vector space of dimension 1 over Finite Field of size 2,\n",
       " 1: Vector space of dimension 2 over Finite Field of size 2,\n",
       " 2: Vector space of dimension 1 over Finite Field of size 2}"
      ]
     },
     "execution_count": 18,
     "metadata": {},
     "output_type": "execute_result"
    }
   ],
   "source": [
    "# Let us try to construct the Toric code via a product of chain complexes of classical codes\n",
    "mat = np.array([\n",
    "    [1,1,0],\n",
    "    [0,1,1],\n",
    "    [1,0,1]\n",
    "])\n",
    "\n",
    "rep_code_1 = construct_hom_classical_code(3, mat)\n",
    "rep_code_2 = construct_hom_classical_code(3, mat)\n",
    "toric_code = rep_code_1.tensor(rep_code_2)\n",
    "orthogonality_check = toric_code.differential(1) * toric_code.differential(0)\n",
    "toric_code.homology()"
   ]
  },
  {
   "cell_type": "code",
   "execution_count": null,
   "metadata": {},
   "outputs": [],
   "source": []
  }
 ],
 "metadata": {
  "kernelspec": {
   "display_name": "Python 3.9.7 ('qc_env')",
   "language": "python",
   "name": "python3"
  },
  "language_info": {
   "codemirror_mode": {
    "name": "ipython",
    "version": 3
   },
   "file_extension": ".py",
   "mimetype": "text/x-python",
   "name": "python",
   "nbconvert_exporter": "python",
   "pygments_lexer": "ipython3",
   "version": "3.9.7"
  },
  "orig_nbformat": 4,
  "vscode": {
   "interpreter": {
    "hash": "5a2db16169323f9c61c6ed4d885397ad0494f2e790734ab97aaeab1bbd202ff7"
   }
  }
 },
 "nbformat": 4,
 "nbformat_minor": 2
}
